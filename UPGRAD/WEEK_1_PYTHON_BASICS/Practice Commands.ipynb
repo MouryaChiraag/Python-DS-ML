{
 "cells": [
  {
   "cell_type": "code",
   "execution_count": 1,
   "id": "83fc2e8b",
   "metadata": {},
   "outputs": [
    {
     "ename": "SyntaxError",
     "evalue": "invalid syntax (2344520649.py, line 1)",
     "output_type": "error",
     "traceback": [
      "\u001b[1;36m  Input \u001b[1;32mIn [1]\u001b[1;36m\u001b[0m\n\u001b[1;33m    `mourya`\u001b[0m\n\u001b[1;37m    ^\u001b[0m\n\u001b[1;31mSyntaxError\u001b[0m\u001b[1;31m:\u001b[0m invalid syntax\n"
     ]
    }
   ],
   "source": [
    "\n",
    "`mourya`"
   ]
  },
  {
   "cell_type": "code",
   "execution_count": 2,
   "id": "4274fd57",
   "metadata": {},
   "outputs": [
    {
     "ename": "SyntaxError",
     "evalue": "invalid syntax (345704081.py, line 1)",
     "output_type": "error",
     "traceback": [
      "\u001b[1;36m  Input \u001b[1;32mIn [2]\u001b[1;36m\u001b[0m\n\u001b[1;33m    `mourya`\u001b[0m\n\u001b[1;37m    ^\u001b[0m\n\u001b[1;31mSyntaxError\u001b[0m\u001b[1;31m:\u001b[0m invalid syntax\n"
     ]
    }
   ],
   "source": [
    "`mourya`"
   ]
  },
  {
   "cell_type": "markdown",
   "id": "e00de8f8",
   "metadata": {},
   "source": [
    "`mourya'"
   ]
  },
  {
   "cell_type": "markdown",
   "id": "22f023b7",
   "metadata": {},
   "source": [
    "`mourya`"
   ]
  },
  {
   "cell_type": "markdown",
   "id": "ffa9864e",
   "metadata": {},
   "source": [
    "-  ***mourya***\n",
    "    -  **mcb**\n",
    "        -  *prajwal*\n"
   ]
  },
  {
   "cell_type": "markdown",
   "id": "fc35c391",
   "metadata": {},
   "source": [
    "1. mcb\n",
    "2. mourya\n",
    "3. prajwal"
   ]
  },
  {
   "cell_type": "markdown",
   "id": "a9dd755b",
   "metadata": {},
   "source": [
    ">mourya\n",
    ">>mcb\n",
    ">>>prajwal"
   ]
  },
  {
   "cell_type": "code",
   "execution_count": null,
   "id": "0bc22cc6",
   "metadata": {},
   "outputs": [],
   "source": [
    "mourya=10\n",
    "print(mourya\n",
    "\n",
    "mourya=10\n",
    "print(mourya)"
   ]
  },
  {
   "cell_type": "code",
   "execution_count": null,
   "id": "0900e976",
   "metadata": {},
   "outputs": [],
   "source": [
    "a=10"
   ]
  },
  {
   "cell_type": "code",
   "execution_count": null,
   "id": "43a6b1d5",
   "metadata": {},
   "outputs": [],
   "source": []
  }
 ],
 "metadata": {
  "kernelspec": {
   "display_name": "Python 3 (ipykernel)",
   "language": "python",
   "name": "python3"
  },
  "language_info": {
   "codemirror_mode": {
    "name": "ipython",
    "version": 3
   },
   "file_extension": ".py",
   "mimetype": "text/x-python",
   "name": "python",
   "nbconvert_exporter": "python",
   "pygments_lexer": "ipython3",
   "version": "3.9.12"
  }
 },
 "nbformat": 4,
 "nbformat_minor": 5
}
