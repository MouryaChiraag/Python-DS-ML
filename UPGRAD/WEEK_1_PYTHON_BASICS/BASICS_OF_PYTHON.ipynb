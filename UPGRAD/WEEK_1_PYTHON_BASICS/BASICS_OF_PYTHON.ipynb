{
 "cells": [
  {
   "cell_type": "code",
   "execution_count": 1,
   "id": "574a8e0d",
   "metadata": {},
   "outputs": [
    {
     "name": "stdout",
     "output_type": "stream",
     "text": [
      "3.0\n"
     ]
    }
   ],
   "source": [
    "x=3.5\n",
    "print(float(int(x)))"
   ]
  },
  {
   "cell_type": "code",
   "execution_count": 2,
   "id": "f93c8f36",
   "metadata": {},
   "outputs": [
    {
     "name": "stdout",
     "output_type": "stream",
     "text": [
      "<class 'str'>\n"
     ]
    }
   ],
   "source": [
    "name='mcb'\n",
    "print(type(name))"
   ]
  },
  {
   "cell_type": "code",
   "execution_count": 3,
   "id": "935c8f70",
   "metadata": {},
   "outputs": [
    {
     "name": "stdout",
     "output_type": "stream",
     "text": [
      "<class 'int'>\n"
     ]
    }
   ],
   "source": [
    "a=1\n",
    "print(type(a))"
   ]
  },
  {
   "cell_type": "code",
   "execution_count": 5,
   "id": "1c49b942",
   "metadata": {},
   "outputs": [
    {
     "name": "stdout",
     "output_type": "stream",
     "text": [
      "3.5\n"
     ]
    }
   ],
   "source": [
    "x = 3\n",
    "y = 2.5\n",
    "z = 5\n",
    "print(x + y / z)"
   ]
  },
  {
   "cell_type": "code",
   "execution_count": 6,
   "id": "afbed92e",
   "metadata": {},
   "outputs": [
    {
     "name": "stdout",
     "output_type": "stream",
     "text": [
      "0.5\n"
     ]
    }
   ],
   "source": [
    "y = 2.5\n",
    "z = 5\n",
    "print(y / z)"
   ]
  },
  {
   "cell_type": "code",
   "execution_count": 7,
   "id": "da74bc1d",
   "metadata": {},
   "outputs": [
    {
     "data": {
      "text/plain": [
       "-2"
      ]
     },
     "execution_count": 7,
     "metadata": {},
     "output_type": "execute_result"
    }
   ],
   "source": [
    "4 % (1 + 9)**2 - 60 // (7 + 2)"
   ]
  },
  {
   "cell_type": "code",
   "execution_count": 8,
   "id": "697c92b6",
   "metadata": {},
   "outputs": [
    {
     "data": {
      "text/plain": [
       "100"
      ]
     },
     "execution_count": 8,
     "metadata": {},
     "output_type": "execute_result"
    }
   ],
   "source": [
    "10**2"
   ]
  },
  {
   "cell_type": "code",
   "execution_count": 9,
   "id": "623ef34d",
   "metadata": {},
   "outputs": [
    {
     "data": {
      "text/plain": [
       "6"
      ]
     },
     "execution_count": 9,
     "metadata": {},
     "output_type": "execute_result"
    }
   ],
   "source": [
    "60//9"
   ]
  },
  {
   "cell_type": "code",
   "execution_count": 10,
   "id": "9e2ee0b0",
   "metadata": {},
   "outputs": [
    {
     "data": {
      "text/plain": [
       "4"
      ]
     },
     "execution_count": 10,
     "metadata": {},
     "output_type": "execute_result"
    }
   ],
   "source": [
    "4%100"
   ]
  },
  {
   "cell_type": "code",
   "execution_count": 13,
   "id": "6129378b",
   "metadata": {},
   "outputs": [
    {
     "data": {
      "text/plain": [
       "'n'"
      ]
     },
     "execution_count": 13,
     "metadata": {},
     "output_type": "execute_result"
    }
   ],
   "source": [
    "string = 'mvqugvqhc2ndoi'\n",
    "string[10]"
   ]
  },
  {
   "cell_type": "code",
   "execution_count": 14,
   "id": "41e00e18",
   "metadata": {},
   "outputs": [
    {
     "name": "stdout",
     "output_type": "stream",
     "text": [
      "Python\n"
     ]
    }
   ],
   "source": [
    "word= \"I love Python programming\"\n",
    "print(word[7:13])"
   ]
  },
  {
   "cell_type": "code",
   "execution_count": 2,
   "id": "e605316d",
   "metadata": {},
   "outputs": [
    {
     "name": "stdout",
     "output_type": "stream",
     "text": [
      "Python\n"
     ]
    }
   ],
   "source": [
    "word= \"I love Python programming\"\n",
    "print(word[-18:-12])"
   ]
  },
  {
   "cell_type": "code",
   "execution_count": 3,
   "id": "f1addf66",
   "metadata": {},
   "outputs": [
    {
     "data": {
      "text/plain": [
       "'e'"
      ]
     },
     "execution_count": 3,
     "metadata": {},
     "output_type": "execute_result"
    }
   ],
   "source": [
    "x = 'len'\n",
    "x[len(x * 2) - 5]"
   ]
  },
  {
   "cell_type": "code",
   "execution_count": 4,
   "id": "62c17e4c",
   "metadata": {},
   "outputs": [
    {
     "name": "stdout",
     "output_type": "stream",
     "text": [
      "30\n"
     ]
    }
   ],
   "source": [
    "a=30\n",
    "print(str(a))"
   ]
  },
  {
   "cell_type": "code",
   "execution_count": 7,
   "id": "e118272c",
   "metadata": {},
   "outputs": [
    {
     "name": "stdout",
     "output_type": "stream",
     "text": [
      "1\n"
     ]
    }
   ],
   "source": [
    "a='LONG STRING'\n",
    "print(a.count('O'))"
   ]
  },
  {
   "cell_type": "code",
   "execution_count": null,
   "id": "2ecccdc1",
   "metadata": {},
   "outputs": [],
   "source": []
  }
 ],
 "metadata": {
  "kernelspec": {
   "display_name": "Python 3 (ipykernel)",
   "language": "python",
   "name": "python3"
  },
  "language_info": {
   "codemirror_mode": {
    "name": "ipython",
    "version": 3
   },
   "file_extension": ".py",
   "mimetype": "text/x-python",
   "name": "python",
   "nbconvert_exporter": "python",
   "pygments_lexer": "ipython3",
   "version": "3.9.12"
  }
 },
 "nbformat": 4,
 "nbformat_minor": 5
}
