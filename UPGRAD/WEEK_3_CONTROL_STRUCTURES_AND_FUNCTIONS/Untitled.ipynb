{
 "cells": [
  {
   "cell_type": "code",
   "execution_count": 1,
   "id": "5141181e",
   "metadata": {},
   "outputs": [],
   "source": [
    "#try to write a code to return 'yes' try to write a code to return 'Yes' if X lies in the range of 1000 to 1100, else return 'No'?"
   ]
  },
  {
   "cell_type": "code",
   "execution_count": 2,
   "id": "c6baaca2",
   "metadata": {},
   "outputs": [
    {
     "name": "stdout",
     "output_type": "stream",
     "text": [
      "1010  lies in the range\n"
     ]
    }
   ],
   "source": [
    "x=1010\n",
    "if x>=1000 & x<=1100:\n",
    "    print(x,\" lies in the range\")\n",
    "else:\n",
    "    print(x,\" doesnot lies in the range\")"
   ]
  },
  {
   "cell_type": "code",
   "execution_count": 10,
   "id": "abecb623",
   "metadata": {},
   "outputs": [
    {
     "name": "stdout",
     "output_type": "stream",
     "text": [
      "Enter the shopping_amount: 2499\n",
      "100 rs discount\n"
     ]
    }
   ],
   "source": [
    "shopping_amount=int(input(\"Enter the shopping_amount: \"))\n",
    "if shopping_amount>5000:\n",
    "    print(\"1000 rs discount\")\n",
    "elif shopping_amount>=2500 and shopping_amount<=5000:\n",
    "    print(\"500rs discount\")\n",
    "elif shopping_amount>=1000 and shopping_amount<=2500:\n",
    "    print(\"100 rs discount\")\n",
    "else:\n",
    "    print(\"no discount\")"
   ]
  },
  {
   "cell_type": "code",
   "execution_count": 12,
   "id": "ad727ac9",
   "metadata": {},
   "outputs": [
    {
     "name": "stdout",
     "output_type": "stream",
     "text": [
      "YES\n"
     ]
    }
   ],
   "source": [
    "X = 12\n",
    "\n",
    "if (X > 10 & X < 15):\n",
    "    print('YES')\n",
    "else:\n",
    "    print('No')\n"
   ]
  },
  {
   "cell_type": "code",
   "execution_count": 13,
   "id": "48b4dbbd",
   "metadata": {},
   "outputs": [
    {
     "ename": "SyntaxError",
     "evalue": "invalid syntax (2131860517.py, line 7)",
     "output_type": "error",
     "traceback": [
      "\u001b[1;36m  Input \u001b[1;32mIn [13]\u001b[1;36m\u001b[0m\n\u001b[1;33m    elif( # missing part 2 #):\u001b[0m\n\u001b[1;37m    ^\u001b[0m\n\u001b[1;31mSyntaxError\u001b[0m\u001b[1;31m:\u001b[0m invalid syntax\n"
     ]
    }
   ],
   "source": [
    "a=10\n",
    "b=16\n",
    "c=20\n",
    "\n",
    "if( # missing part 1 # ):\n",
    "    print(\"a\")\n",
    "elif( # missing part 2 #):\n",
    "    print(\"b\")\n",
    "else:\n",
    "     print(\"c\")"
   ]
  },
  {
   "cell_type": "code",
   "execution_count": 16,
   "id": "2f2831a5",
   "metadata": {},
   "outputs": [
    {
     "name": "stdout",
     "output_type": "stream",
     "text": [
      "A\n"
     ]
    }
   ],
   "source": [
    "if 91 >= 90:\n",
    "   print('A')\n",
    "elif 88 >=80:\n",
    "   print('B')\n",
    "elif 70 >= 70:\n",
    "   print('C')\n",
    "elif 67 >= 60:\n",
    "   print('D')\n",
    "else:\n",
    "   print('F')"
   ]
  },
  {
   "cell_type": "code",
   "execution_count": 23,
   "id": "a432a453",
   "metadata": {},
   "outputs": [
    {
     "name": "stdout",
     "output_type": "stream",
     "text": [
      "C\n"
     ]
    }
   ],
   "source": [
    "score=\n",
    "if score >= 90:\n",
    "   print('A')\n",
    "elif score >=80:\n",
    "   print('B')\n",
    "elif score >= 70:\n",
    "   print('C')\n",
    "elif score >= 60:\n",
    "   print('D')\n",
    "else:\n",
    "   print('F')"
   ]
  },
  {
   "cell_type": "code",
   "execution_count": 24,
   "id": "e6531724",
   "metadata": {},
   "outputs": [
    {
     "name": "stdout",
     "output_type": "stream",
     "text": [
      "B\n"
     ]
    }
   ],
   "source": [
    "if (10 < 0) and (0 < -10):\n",
    "    print(\"A\")\n",
    "elif (10 > 0) or False:\n",
    "    print(\"B\")\n",
    "else:\n",
    "    print(\"C\")\n"
   ]
  },
  {
   "cell_type": "code",
   "execution_count": 25,
   "id": "c73e2219",
   "metadata": {},
   "outputs": [
    {
     "name": "stdout",
     "output_type": "stream",
     "text": [
      "B\n"
     ]
    }
   ],
   "source": [
    "if True or True:\n",
    "    if False and True or False:\n",
    "        print('A')\n",
    "    elif False and False or True and True:\n",
    "        print('B')\n",
    "    else:\n",
    "        print('C')\n",
    "else:\n",
    "    print('D')"
   ]
  },
  {
   "cell_type": "code",
   "execution_count": 29,
   "id": "dfc17ee3",
   "metadata": {},
   "outputs": [
    {
     "name": "stdout",
     "output_type": "stream",
     "text": [
      "Enter a word prajwal\n",
      "NO\n"
     ]
    }
   ],
   "source": [
    "a=input(\"Enter a word \")\n",
    "b=[\"a\",\"e\",\"i\",\"o\",\"u\"]\n",
    "if a[0] in b:\n",
    "    print(\"YES\")\n",
    "else:\n",
    "    print(\"NO\")"
   ]
  },
  {
   "cell_type": "code",
   "execution_count": 39,
   "id": "172d4b61",
   "metadata": {},
   "outputs": [
    {
     "name": "stdout",
     "output_type": "stream",
     "text": [
      "Enter a word: animal\n"
     ]
    },
    {
     "ename": "TypeError",
     "evalue": "startswith() takes at most 3 arguments (5 given)",
     "output_type": "error",
     "traceback": [
      "\u001b[1;31m---------------------------------------------------------------------------\u001b[0m",
      "\u001b[1;31mTypeError\u001b[0m                                 Traceback (most recent call last)",
      "Input \u001b[1;32mIn [39]\u001b[0m, in \u001b[0;36m<cell line: 2>\u001b[1;34m()\u001b[0m\n\u001b[0;32m      1\u001b[0m z\u001b[38;5;241m=\u001b[39m\u001b[38;5;28minput\u001b[39m(\u001b[38;5;124m\"\u001b[39m\u001b[38;5;124mEnter a word: \u001b[39m\u001b[38;5;124m\"\u001b[39m)\n\u001b[1;32m----> 2\u001b[0m \u001b[38;5;28;01mif\u001b[39;00m \u001b[43mz\u001b[49m\u001b[38;5;241;43m.\u001b[39;49m\u001b[43mstartswith\u001b[49m\u001b[43m(\u001b[49m\u001b[38;5;124;43m\"\u001b[39;49m\u001b[38;5;124;43ma\u001b[39;49m\u001b[38;5;124;43m\"\u001b[39;49m\u001b[43m,\u001b[49m\u001b[38;5;124;43m\"\u001b[39;49m\u001b[38;5;124;43me\u001b[39;49m\u001b[38;5;124;43m\"\u001b[39;49m\u001b[43m,\u001b[49m\u001b[38;5;124;43m\"\u001b[39;49m\u001b[38;5;124;43mi\u001b[39;49m\u001b[38;5;124;43m\"\u001b[39;49m\u001b[43m,\u001b[49m\u001b[38;5;124;43m\"\u001b[39;49m\u001b[38;5;124;43mo\u001b[39;49m\u001b[38;5;124;43m\"\u001b[39;49m\u001b[43m,\u001b[49m\u001b[38;5;124;43m\"\u001b[39;49m\u001b[38;5;124;43mu\u001b[39;49m\u001b[38;5;124;43m\"\u001b[39;49m\u001b[43m)\u001b[49m:\n\u001b[0;32m      3\u001b[0m     \u001b[38;5;28mprint\u001b[39m(\u001b[38;5;124m\"\u001b[39m\u001b[38;5;124mYES\u001b[39m\u001b[38;5;124m\"\u001b[39m)\n\u001b[0;32m      4\u001b[0m \u001b[38;5;28;01melse\u001b[39;00m:\n",
      "\u001b[1;31mTypeError\u001b[0m: startswith() takes at most 3 arguments (5 given)"
     ]
    }
   ],
   "source": [
    "z=input(\"Enter a word: \")\n",
    "if z.startswith(\"a\",\"e\",\"i\",\"o\",\"u\"):\n",
    "    print(\"YES\")\n",
    "else:\n",
    "    print(\"NO\")"
   ]
  },
  {
   "cell_type": "code",
   "execution_count": 1,
   "id": "4063cd8f",
   "metadata": {},
   "outputs": [
    {
     "name": "stdout",
     "output_type": "stream",
     "text": [
      "It is a prime number\n",
      "Not a prime number\n",
      "It is a prime number\n",
      "Not a prime number\n",
      "It is a prime number\n",
      "Not a prime number\n",
      "It is a prime number\n",
      "Not a prime number\n",
      "It is a prime number\n",
      "Not a prime number\n",
      "It is a prime number\n",
      "Not a prime number\n",
      "It is a prime number\n",
      "Not a prime number\n",
      "It is a prime number\n",
      "Not a prime number\n",
      "It is a prime number\n",
      "Not a prime number\n",
      "It is a prime number\n"
     ]
    }
   ],
   "source": [
    "for n in range(1,20):\n",
    "    if n%2!=0:\n",
    "      "
   ]
  },
  {
   "cell_type": "code",
   "execution_count": 7,
   "id": "0e2893a7",
   "metadata": {},
   "outputs": [
    {
     "name": "stdout",
     "output_type": "stream",
     "text": [
      "[-2, -6, -15, -4, -8]\n"
     ]
    }
   ],
   "source": [
    "L1 = [10, 20, 30, 24, 18]\n",
    "L2 = [8, 14, 15, 20, 10]\n",
    "L3=[]\n",
    "for  i in range(len(L2)):\n",
    "    L3.append(L2[i] - L1[i])\n",
    "print(L3)"
   ]
  },
  {
   "cell_type": "code",
   "execution_count": 10,
   "id": "c7daadbe",
   "metadata": {},
   "outputs": [
    {
     "name": "stdout",
     "output_type": "stream",
     "text": [
      "[-100, -98, -96, -94, -92, -90, -88, -86, -84, -82, -80, -78, -76, -74, -72, -70, -68, -66, -64, -62, -60, -58, -56, -54, -52, -50, -48, -46, -44, -42, -40, -38, -36, -34, -32, -30, -28, -26, -24, -22, -20, -18, -16, -14, -12, -10, -8, -6, -4, -2]\n"
     ]
    }
   ],
   "source": [
    "l = []\n",
    "for i in range(-100, 0):\n",
    "    if(i % 2 == 0):\n",
    "        l.append(i)\n",
    "print(l)"
   ]
  },
  {
   "cell_type": "code",
   "execution_count": 12,
   "id": "ef1c7a85",
   "metadata": {},
   "outputs": [],
   "source": [
    "for i in range(0, -101, 2):\n",
    "    print(i)"
   ]
  },
  {
   "cell_type": "code",
   "execution_count": 13,
   "id": "933bca2c",
   "metadata": {},
   "outputs": [
    {
     "name": "stdout",
     "output_type": "stream",
     "text": [
      "-100\n",
      "-98\n",
      "-96\n",
      "-94\n",
      "-92\n",
      "-90\n",
      "-88\n",
      "-86\n",
      "-84\n",
      "-82\n",
      "-80\n",
      "-78\n",
      "-76\n",
      "-74\n",
      "-72\n",
      "-70\n",
      "-68\n",
      "-66\n",
      "-64\n",
      "-62\n",
      "-60\n",
      "-58\n",
      "-56\n",
      "-54\n",
      "-52\n",
      "-50\n",
      "-48\n",
      "-46\n",
      "-44\n",
      "-42\n",
      "-40\n",
      "-38\n",
      "-36\n",
      "-34\n",
      "-32\n",
      "-30\n",
      "-28\n",
      "-26\n",
      "-24\n",
      "-22\n",
      "-20\n",
      "-18\n",
      "-16\n",
      "-14\n",
      "-12\n",
      "-10\n",
      "-8\n",
      "-6\n",
      "-4\n",
      "-2\n"
     ]
    }
   ],
   "source": [
    "for i in range(-100, -1, 2):\n",
    "    print(i)"
   ]
  },
  {
   "cell_type": "code",
   "execution_count": 14,
   "id": "0f7abb40",
   "metadata": {},
   "outputs": [
    {
     "name": "stdout",
     "output_type": "stream",
     "text": [
      "-100\n",
      "-98\n",
      "-96\n",
      "-94\n",
      "-92\n",
      "-90\n",
      "-88\n",
      "-86\n",
      "-84\n",
      "-82\n",
      "-80\n",
      "-78\n",
      "-76\n",
      "-74\n",
      "-72\n",
      "-70\n",
      "-68\n",
      "-66\n",
      "-64\n",
      "-62\n",
      "-60\n",
      "-58\n",
      "-56\n",
      "-54\n",
      "-52\n",
      "-50\n",
      "-48\n",
      "-46\n",
      "-44\n",
      "-42\n",
      "-40\n",
      "-38\n",
      "-36\n",
      "-34\n",
      "-32\n",
      "-30\n",
      "-28\n",
      "-26\n",
      "-24\n",
      "-22\n",
      "-20\n",
      "-18\n",
      "-16\n",
      "-14\n",
      "-12\n",
      "-10\n",
      "-8\n",
      "-6\n",
      "-4\n",
      "-2\n"
     ]
    }
   ],
   "source": [
    "for i in sorted(set(range(-2, -101, -2))):\n",
    "    print(i)"
   ]
  },
  {
   "cell_type": "code",
   "execution_count": 15,
   "id": "a4185252",
   "metadata": {},
   "outputs": [
    {
     "name": "stdout",
     "output_type": "stream",
     "text": [
      "-2\n",
      "-4\n",
      "-6\n",
      "-8\n",
      "-10\n",
      "-12\n",
      "-14\n",
      "-16\n",
      "-18\n",
      "-20\n",
      "-22\n",
      "-24\n",
      "-26\n",
      "-28\n",
      "-30\n",
      "-32\n",
      "-34\n",
      "-36\n",
      "-38\n",
      "-40\n",
      "-42\n",
      "-44\n",
      "-46\n",
      "-48\n",
      "-50\n",
      "-52\n",
      "-54\n",
      "-56\n",
      "-58\n",
      "-60\n",
      "-62\n",
      "-64\n",
      "-66\n",
      "-68\n",
      "-70\n",
      "-72\n",
      "-74\n",
      "-76\n",
      "-78\n",
      "-80\n",
      "-82\n",
      "-84\n",
      "-86\n",
      "-88\n",
      "-90\n",
      "-92\n",
      "-94\n",
      "-96\n",
      "-98\n",
      "-100\n"
     ]
    }
   ],
   "source": [
    "for i in range(-2, -101, -2):\n",
    "    print(i)"
   ]
  },
  {
   "cell_type": "code",
   "execution_count": 2,
   "id": "264a4718",
   "metadata": {},
   "outputs": [
    {
     "name": "stdout",
     "output_type": "stream",
     "text": [
      "0 1 2 "
     ]
    }
   ],
   "source": [
    "d = {0: 'Fish', 1: 'Bird', 2: 'Mammal'}\n",
    "for i in d:\n",
    "    print(i, end = \" \")"
   ]
  },
  {
   "cell_type": "code",
   "execution_count": null,
   "id": "64218506",
   "metadata": {},
   "outputs": [],
   "source": [
    "# Creating a dictionary consisting of even natural numbers as key and square of each element as value"
   ]
  },
  {
   "cell_type": "code",
   "execution_count": 7,
   "id": "9ef95f8c",
   "metadata": {},
   "outputs": [
    {
     "name": "stdout",
     "output_type": "stream",
     "text": [
      "{2: 4, 4: 16, 6: 36, 8: 64, 10: 100, 12: 144, 14: 196, 16: 256, 18: 324, 20: 400}\n"
     ]
    }
   ],
   "source": [
    "ordinary_dict ={}\n",
    "\n",
    "for i in range(2,21):\n",
    "    if i % 2 == 0:\n",
    "        ordinary_dict[i] = i**2\n",
    "\n",
    "print(ordinary_dict)\n",
    " "
   ]
  },
  {
   "cell_type": "code",
   "execution_count": 8,
   "id": "b8b65d48",
   "metadata": {},
   "outputs": [],
   "source": [
    "#Now, Suppose we need to create a list of multiple of 6 for just even numbers between 1 to 10."
   ]
  },
  {
   "cell_type": "code",
   "execution_count": 9,
   "id": "6a6b0ea9",
   "metadata": {},
   "outputs": [
    {
     "name": "stdout",
     "output_type": "stream",
     "text": [
      "[12, 24, 36, 48, 60]\n"
     ]
    }
   ],
   "source": [
    "l1=[]\n",
    "for i in range(1,11):\n",
    "    if i%2==0:\n",
    "        l1.append(i*6)\n",
    "print(l1)\n",
    "        "
   ]
  },
  {
   "cell_type": "code",
   "execution_count": 10,
   "id": "ad195179",
   "metadata": {},
   "outputs": [
    {
     "name": "stdout",
     "output_type": "stream",
     "text": [
      "[12, 24, 36, 48, 60]\n"
     ]
    }
   ],
   "source": [
    "l2=[i*6 for i in range(1,11) if i%2==0]\n",
    "print(l2)"
   ]
  },
  {
   "cell_type": "code",
   "execution_count": 11,
   "id": "a510a356",
   "metadata": {},
   "outputs": [],
   "source": [
    "input_list = list(range(1,100))\n",
    "output_dict = {}\n",
    "\n",
    "for val in input_list:\n",
    "    if val % 3 == 0:\n",
    "        output_dict[val] = val**3\n",
    "    "
   ]
  },
  {
   "cell_type": "code",
   "execution_count": 1,
   "id": "1ec24784",
   "metadata": {},
   "outputs": [
    {
     "data": {
      "text/plain": [
       "23"
      ]
     },
     "execution_count": 1,
     "metadata": {},
     "output_type": "execute_result"
    }
   ],
   "source": [
    "def func(x, y = 1):\n",
    "    z = x * y + x + y\n",
    "    return z\n",
    "\n",
    "func(2, func(3))"
   ]
  },
  {
   "cell_type": "code",
   "execution_count": 2,
   "id": "51137587",
   "metadata": {},
   "outputs": [
    {
     "ename": "TypeError",
     "evalue": "func() missing 1 required positional argument: 'y'",
     "output_type": "error",
     "traceback": [
      "\u001b[1;31m---------------------------------------------------------------------------\u001b[0m",
      "\u001b[1;31mTypeError\u001b[0m                                 Traceback (most recent call last)",
      "Input \u001b[1;32mIn [2]\u001b[0m, in \u001b[0;36m<cell line: 5>\u001b[1;34m()\u001b[0m\n\u001b[0;32m      2\u001b[0m     z \u001b[38;5;241m=\u001b[39m x \u001b[38;5;241m*\u001b[39m y \u001b[38;5;241m+\u001b[39m x \u001b[38;5;241m+\u001b[39m y\n\u001b[0;32m      3\u001b[0m     \u001b[38;5;28;01mreturn\u001b[39;00m z\n\u001b[1;32m----> 5\u001b[0m func(\u001b[38;5;241m2\u001b[39m, \u001b[43mfunc\u001b[49m\u001b[43m(\u001b[49m\u001b[38;5;241;43m3\u001b[39;49m\u001b[43m)\u001b[49m)\n",
      "\u001b[1;31mTypeError\u001b[0m: func() missing 1 required positional argument: 'y'"
     ]
    }
   ],
   "source": [
    "def func(x, y):\n",
    "    z = x * y + x + y\n",
    "    return z\n",
    "\n",
    "func(2, func(3))"
   ]
  },
  {
   "cell_type": "code",
   "execution_count": 3,
   "id": "1217baeb",
   "metadata": {},
   "outputs": [
    {
     "data": {
      "text/plain": [
       "35"
      ]
     },
     "execution_count": 3,
     "metadata": {},
     "output_type": "execute_result"
    }
   ],
   "source": [
    "def func(x = 1 ,y = 2):\n",
    "    z = x * y + x + y\n",
    "    return z\n",
    "\n",
    "func(2, func(3))"
   ]
  },
  {
   "cell_type": "code",
   "execution_count": 4,
   "id": "4e1065d6",
   "metadata": {},
   "outputs": [
    {
     "name": "stdout",
     "output_type": "stream",
     "text": [
      "[2, 4, 6, 8]\n"
     ]
    }
   ],
   "source": [
    "list_numbers = (1,2,3,4)\n",
    "sample_map = map(lambda x: x*2, list_numbers)\n",
    "print(list(sample_map))"
   ]
  },
  {
   "cell_type": "code",
   "execution_count": 5,
   "id": "aa8766c2",
   "metadata": {},
   "outputs": [
    {
     "data": {
      "text/plain": [
       "['Aman', 'Akash']"
      ]
     },
     "execution_count": 5,
     "metadata": {},
     "output_type": "execute_result"
    }
   ],
   "source": [
    "name = ['Harshit','Aman','Akash']\n",
    "list(filter(lambda x : x.startswith(\"A\"), name))"
   ]
  },
  {
   "cell_type": "code",
   "execution_count": 9,
   "id": "2942929c",
   "metadata": {},
   "outputs": [
    {
     "data": {
      "text/plain": [
       "'harshit aman'"
      ]
     },
     "execution_count": 9,
     "metadata": {},
     "output_type": "execute_result"
    }
   ],
   "source": [
    "from functools import reduce\n",
    "list_1 = ['harshit','aman']\n",
    "reduce(lambda x,y: x +' '+ y,list_1)"
   ]
  },
  {
   "cell_type": "code",
   "execution_count": 1,
   "id": "a32584d2",
   "metadata": {},
   "outputs": [],
   "source": [
    "#Having learned about classes from the previous video, you will now create an Employee class with three attributes: age, name, and employee id."
   ]
  },
  {
   "cell_type": "markdown",
   "id": "0576d77c",
   "metadata": {},
   "source": []
  },
  {
   "cell_type": "code",
   "execution_count": 11,
   "id": "dba7745d",
   "metadata": {},
   "outputs": [
    {
     "name": "stdout",
     "output_type": "stream",
     "text": [
      "age= 25\n",
      "name=  mcb \n",
      "employee_id=  1ga18cs111 \n",
      "company_code=  ABC\n"
     ]
    }
   ],
   "source": [
    "class Employee():\n",
    "    company_code=\"ABC\"\n",
    "    def __init__(self,age,name,eid):\n",
    "        self.age=age\n",
    "        self.name=name\n",
    "        self.eid=eid\n",
    "emp=Employee(25,\"mcb\",\"1ga18cs111\")\n",
    "print(\"age= \"+ str(emp.age)+ \"\\nname= \",emp.name, \"\\nemployee_id= \",emp.eid, \"\\ncompany_code= \",emp.company_code)"
   ]
  },
  {
   "cell_type": "code",
   "execution_count": 17,
   "id": "87e4b003",
   "metadata": {},
   "outputs": [
    {
     "name": "stdout",
     "output_type": "stream",
     "text": [
      "Name\n",
      "10\n"
     ]
    }
   ],
   "source": [
    "class Student:\n",
    "    def __init__(self):\n",
    "        self.age = 10\n",
    "        self.name = \"Name\"\n",
    "student1=Student()\n",
    "print(student1.name)\n",
    "print(student1.age)"
   ]
  },
  {
   "cell_type": "code",
   "execution_count": 20,
   "id": "cd912119",
   "metadata": {},
   "outputs": [
    {
     "name": "stdout",
     "output_type": "stream",
     "text": [
      "V\n"
     ]
    }
   ],
   "source": [
    "class Student:\n",
    "    standard = 'IV'\n",
    "    def __init__(self,age,name,Cid):\n",
    "        self.age = age\n",
    "        self.name = name\n",
    "        self.id = Cid\n",
    "\n",
    "student1 = Student(12,\"Raj\",24)\n",
    "Student.standard = 'V'\n",
    "print(student1.standard)"
   ]
  },
  {
   "cell_type": "code",
   "execution_count": 21,
   "id": "d2e19ddf",
   "metadata": {},
   "outputs": [
    {
     "ename": "NameError",
     "evalue": "name 'self' is not defined",
     "output_type": "error",
     "traceback": [
      "\u001b[1;31m---------------------------------------------------------------------------\u001b[0m",
      "\u001b[1;31mNameError\u001b[0m                                 Traceback (most recent call last)",
      "Input \u001b[1;32mIn [21]\u001b[0m, in \u001b[0;36m<cell line: 18>\u001b[1;34m()\u001b[0m\n\u001b[0;32m     15\u001b[0m A1 \u001b[38;5;241m=\u001b[39m A(\u001b[38;5;241m3\u001b[39m,\u001b[38;5;241m4\u001b[39m)\n\u001b[0;32m     16\u001b[0m A2 \u001b[38;5;241m=\u001b[39m A(\u001b[38;5;241m5\u001b[39m,\u001b[38;5;241m6\u001b[39m)\n\u001b[1;32m---> 18\u001b[0m \u001b[43mA2\u001b[49m\u001b[38;5;241;43m.\u001b[39;49m\u001b[43mupdate_z\u001b[49m\u001b[43m(\u001b[49m\u001b[43m)\u001b[49m\n\u001b[0;32m     19\u001b[0m A1\u001b[38;5;241m.\u001b[39my \u001b[38;5;241m+\u001b[39m A2\u001b[38;5;241m.\u001b[39mz\n",
      "Input \u001b[1;32mIn [21]\u001b[0m, in \u001b[0;36mA.update_z\u001b[1;34m(cls)\u001b[0m\n\u001b[0;32m     10\u001b[0m \u001b[38;5;129m@classmethod\u001b[39m\n\u001b[0;32m     11\u001b[0m \u001b[38;5;28;01mdef\u001b[39;00m \u001b[38;5;21mupdate_z\u001b[39m(\u001b[38;5;28mcls\u001b[39m):\n\u001b[1;32m---> 12\u001b[0m     \u001b[38;5;28mself\u001b[39m\u001b[38;5;241m.\u001b[39mz \u001b[38;5;241m=\u001b[39m \u001b[38;5;28;43mself\u001b[39;49m\u001b[38;5;241m.\u001b[39mz \u001b[38;5;241m+\u001b[39m \u001b[38;5;241m20\u001b[39m\n",
      "\u001b[1;31mNameError\u001b[0m: name 'self' is not defined"
     ]
    }
   ],
   "source": [
    "class A :\n",
    "    x = 10\n",
    "    def __init__(self, y,z):\n",
    "        self.y = y\n",
    "        self.z = z\n",
    "           \n",
    "    def update_y(self):\n",
    "        self.y = self.y * self.x\n",
    "   \n",
    "    @classmethod\n",
    "    def update_z(cls):\n",
    "        self.z = self.z + 20\n",
    "\n",
    "        \n",
    "A1 = A(3,4)\n",
    "A2 = A(5,6)\n",
    "\n",
    "A2.update_z()\n",
    "A1.y + A2.z"
   ]
  },
  {
   "cell_type": "code",
   "execution_count": 1,
   "id": "a39e8c61",
   "metadata": {},
   "outputs": [
    {
     "name": "stdout",
     "output_type": "stream",
     "text": [
      "1 2\n"
     ]
    }
   ],
   "source": [
    "class A:\n",
    "    def __init__(self, x=1):\n",
    "        self.x = x\n",
    "class B(A):\n",
    "    def __init__(self,y =2):\n",
    "        super().__init__()\n",
    "        self.y = y\n",
    "\n",
    "def main():\n",
    "    b = B()\n",
    "    print(b.x,b.y)\n",
    "main()"
   ]
  },
  {
   "cell_type": "code",
   "execution_count": 7,
   "id": "7dba13d4",
   "metadata": {},
   "outputs": [
    {
     "name": "stdout",
     "output_type": "stream",
     "text": [
      "aabbcc\n",
      "abc\n"
     ]
    }
   ],
   "source": [
    "def remove_duplicates(s: str) -> str:\n",
    "    l1=[]\n",
    "    for i in s:\n",
    "        if i not in l1:\n",
    "            l1.append(i)\n",
    "    st=\"\".join(l1)\n",
    "    return st\n",
    "s = input()\n",
    "print(remove_duplicates(s))"
   ]
  },
  {
   "cell_type": "code",
   "execution_count": 2,
   "id": "589834c7",
   "metadata": {},
   "outputs": [
    {
     "name": "stdout",
     "output_type": "stream",
     "text": [
      "28\n",
      "[1, 2, 4, 7, 14]\n",
      "True\n"
     ]
    }
   ],
   "source": [
    "def is_perfect_number(number: int) -> bool:\n",
    "    li=[]\n",
    "    for i in range(1,num):\n",
    "        if num%i==0:\n",
    "            li.append(i)\n",
    "    print(li)\n",
    "    if sum(li)==num:\n",
    "         return True\n",
    "    else:\n",
    "         return False\n",
    "num = int(input())\n",
    "print(is_perfect_number(num))"
   ]
  },
  {
   "cell_type": "code",
   "execution_count": 16,
   "id": "f1dbd22a",
   "metadata": {},
   "outputs": [],
   "source": [
    "li=[]\n",
    "for i in range(1,6):\n",
    "    if 6%i==0:\n",
    "        li.append(i)\n",
    "if sum(li)==6:\n",
    "     flag=True\n",
    "else:\n",
    "     flag=False\n",
    "    "
   ]
  },
  {
   "cell_type": "code",
   "execution_count": 3,
   "id": "10f4ba03",
   "metadata": {},
   "outputs": [
    {
     "data": {
      "text/plain": [
       "12"
      ]
     },
     "execution_count": 3,
     "metadata": {},
     "output_type": "execute_result"
    }
   ],
   "source": [
    "1*12\n",
    "2*6\n",
    "3*4\n",
    "4*3\n",
    "6*2"
   ]
  },
  {
   "cell_type": "code",
   "execution_count": 7,
   "id": "be97809a",
   "metadata": {},
   "outputs": [
    {
     "name": "stdout",
     "output_type": "stream",
     "text": [
      "[4, 5, 6]\n"
     ]
    }
   ],
   "source": [
    "list1=[1,2,3,4,5,6]#first list\n",
    "list2=[4,5,6,7,8]#second list\n",
    "list1=set(list1)\n",
    "list2=set(list2)\n",
    "res=list1.intersection(list2)\n",
    "print(list(res))"
   ]
  },
  {
   "cell_type": "code",
   "execution_count": 12,
   "id": "0322eba0",
   "metadata": {},
   "outputs": [
    {
     "ename": "NameError",
     "evalue": "name 'n' is not defined",
     "output_type": "error",
     "traceback": [
      "\u001b[1;31m---------------------------------------------------------------------------\u001b[0m",
      "\u001b[1;31mNameError\u001b[0m                                 Traceback (most recent call last)",
      "Input \u001b[1;32mIn [12]\u001b[0m, in \u001b[0;36m<cell line: 1>\u001b[1;34m()\u001b[0m\n\u001b[1;32m----> 1\u001b[0m n\u001b[38;5;241m=\u001b[39m\u001b[38;5;28mint\u001b[39m(\u001b[43mn\u001b[49m)\n\u001b[0;32m      2\u001b[0m \u001b[38;5;28mprint\u001b[39m(n \u001b[38;5;241m*\u001b[39m \u001b[38;5;241m11\u001b[39m)\n",
      "\u001b[1;31mNameError\u001b[0m: name 'n' is not defined"
     ]
    }
   ],
   "source": [
    "n=int(n)\n",
    "print(n * 11)"
   ]
  },
  {
   "cell_type": "code",
   "execution_count": null,
   "id": "1c40dd9e",
   "metadata": {},
   "outputs": [],
   "source": []
  }
 ],
 "metadata": {
  "kernelspec": {
   "display_name": "Python 3 (ipykernel)",
   "language": "python",
   "name": "python3"
  },
  "language_info": {
   "codemirror_mode": {
    "name": "ipython",
    "version": 3
   },
   "file_extension": ".py",
   "mimetype": "text/x-python",
   "name": "python",
   "nbconvert_exporter": "python",
   "pygments_lexer": "ipython3",
   "version": "3.9.12"
  }
 },
 "nbformat": 4,
 "nbformat_minor": 5
}
