{
 "cells": [
  {
   "cell_type": "markdown",
   "metadata": {},
   "source": [
    "The `netflix` dictionary contains a list of 100 titles along with their total number of views in the past. Based on the keys and values provided in this dictionary, answer the questions given below."
   ]
  },
  {
   "cell_type": "markdown",
   "metadata": {},
   "source": [
    "#### Q1. There's an Indian movie in the dictionary named `Do Paise Ki Dhoop Chaar Aane Ki Baarish`. What is the number of views for this movie?\n",
    "- 90,854\n",
    "- 658,824\n",
    "- 1,023,597\n",
    "- 2,770,879"
   ]
  },
  {
   "cell_type": "code",
   "execution_count": 1,
   "metadata": {},
   "outputs": [],
   "source": [
    "netflix = {'The Debt Collector': 1821195, 'Act of Vengeance': 2804479, 'Paradise Lost': 2195477, \"Gerald's Game\": 3650626, 'Long Shot': 638440, 'Mak Cun': 1010311, 'Our Souls at Night': 3028705, 'Out of Thin Air': 2681938, \"Paul Hollywood's Big Continental Road Trip\": 230689, 'Satu Hari': 1012350, 'Monster High: Boo York, Boo York': 1526025, 'Cultivating the Seas: History and Future of the Full-Cycle Cultured Kindai Tuna': 2762103, 'Domino': 872663, 'TUNA GIRL': 2574816, '5CM': 2647713, 'Animal World': 220789, 'Hold the Dark': 2307432, 'Lessons from a School Shooting: Notes from Dunblane': 2419534, 'Made in Mexico': 3653712, 'Single': 239278, 'The 3rd Eye': 196138, 'The Sinking Of Van Der Wijck': 2831856, 'Two Catalonias': 1337119, 'Bobby Sands: 66 Days': 2005623, 'Bard of Blood': 744998, 'Deliha 2': 3638900, 'Dragons: Rescue Riders': 3241239, 'In the Shadow of the Moon': 1213329, 'Skylines': 1840094, 'Sturgill Simpson Presents Sound & Fury': 1915540, 'The Politician': 1019394, 'Weeds on Fire': 2273090, 'Much Loved': 3039852, 'Joseph: King of Dreams': 1734449, 'Malaal': 1926128, 'The Grandmaster': 2549410, 'The Inmate': 130965, 'The Hurricane Heist': 2191538, 'Def Comedy Jam 25': 1392697, 'Restless Creature: Wendy Whelan': 2474412, 'Print the Legend': 548250, 'Birders': 3478883, 'Furie': 2755115, 'Leap!': 1401638, 'Oh! Baby (Malayalam)': 839139, 'Oh! Baby (Tamil)': 2691505, 'USS Indianapolis: Men of Courage': 3286014, 'A Wrinkle in Time': 1258861, 'Teach Us All': 2428947, 'White Island': 1152905, 'Inside Man: Most Wanted': 2812661, 'Jeff Dunham: Beside Himself': 2930368, 'China Salesman': 3377292, 'Swearnet: The Movie': 949689, 'The Bar': 620655, 'Manmadhudu 2': 1842761, 'Team Kaylie': 359856, 'Under the Eiffel Tower': 2298237, 'Audrie & Daisy': 1573055, 'Iliza Shlesinger: Confirmed Kills': 365220, 'BONDING': 1664242, 'Do Paise Ki Dhoop Chaar Aane Ki Baarish': 2770879, '20 Feet From Stardom': 2931730, 'In Darkness': 3248749, 'Gaga: Five Foot Two': 3719550, 'The Bad Batch': 3656264, 'SMOSH: The Movie': 3697506, 'King of Boys': 584112, 'Merry Men: The Real Yoruba Demons': 2035595, \"Sarah's Key\": 1337902, 'The Wedding Party 2: Destination Dubai': 1471204, 'Vagabond': 1600432, 'Battlefish': 723021, 'DRAGON PILOT: Hisone & Masotan': 602919, 'Hilda': 54948, 'Maniac': 1348196, 'Quincy': 2601704, 'Rafinha Bastos: Ultimatum': 3469996, 'The Good Cop': 2265521, 'Between Two Ferns: The Movie': 3146508, 'Criminal: France': 2021409, 'Criminal: Germany': 658824, 'Criminal: Spain': 3078634, 'Criminal: UK': 2721398, 'Daddy Issues': 2119035, \"Inside Bill's Brain: Decoding Bill Gates\": 1755104, 'The Hockey Girls': 2000507, 'Travel Mates 2': 707260, 'True: Tricky Treat Day': 3213199, 'Two Sentence Horror Stories': 2438329, 'Mad World': 2281773, 'Mobile Suit Gundam UC': 778879, 'The Bund': 1729892, 'The First Line': 674591, 'Maynard': 84986, 'Monkey Twins': 3277179, 'Bitcoin Heist': 1450158, 'I Am Not Madame Bovary': 2763830, 'Vincent N Roxxy': 1961810, \"Chef's Table: France\": 2065738}"
   ]
  },
  {
   "cell_type": "code",
   "execution_count": 2,
   "metadata": {},
   "outputs": [
    {
     "data": {
      "text/plain": [
       "2770879"
      ]
     },
     "execution_count": 2,
     "metadata": {},
     "output_type": "execute_result"
    }
   ],
   "source": [
    "netflix['Do Paise Ki Dhoop Chaar Aane Ki Baarish']"
   ]
  },
  {
   "cell_type": "code",
   "execution_count": 16,
   "metadata": {},
   "outputs": [
    {
     "ename": "AttributeError",
     "evalue": "'int' object has no attribute 'index'",
     "output_type": "error",
     "traceback": [
      "\u001b[1;31m---------------------------------------------------------------------------\u001b[0m",
      "\u001b[1;31mAttributeError\u001b[0m                            Traceback (most recent call last)",
      "Input \u001b[1;32mIn [16]\u001b[0m, in \u001b[0;36m<cell line: 3>\u001b[1;34m()\u001b[0m\n\u001b[0;32m      1\u001b[0m a\u001b[38;5;241m=\u001b[39m\u001b[38;5;28mmax\u001b[39m(netflix\u001b[38;5;241m.\u001b[39mvalues())\n\u001b[1;32m----> 3\u001b[0m position \u001b[38;5;241m=\u001b[39m \u001b[43ma\u001b[49m\u001b[38;5;241;43m.\u001b[39;49m\u001b[43mindex\u001b[49m(\u001b[38;5;241m54948\u001b[39m)\n\u001b[0;32m      4\u001b[0m \u001b[38;5;28mprint\u001b[39m(key_list[position])\n",
      "\u001b[1;31mAttributeError\u001b[0m: 'int' object has no attribute 'index'"
     ]
    }
   ],
   "source": [
    "a=max(netflix.values())\n",
    "\n",
    "position = index(54948)\n",
    "print(key_list[position])"
   ]
  },
  {
   "cell_type": "code",
   "execution_count": 6,
   "metadata": {},
   "outputs": [
    {
     "data": {
      "text/plain": [
       "54948"
      ]
     },
     "execution_count": 6,
     "metadata": {},
     "output_type": "execute_result"
    }
   ],
   "source": [
    "min(netflix.values())"
   ]
  },
  {
   "cell_type": "code",
   "execution_count": 18,
   "metadata": {},
   "outputs": [
    {
     "name": "stdout",
     "output_type": "stream",
     "text": [
      "Hilda\n"
     ]
    }
   ],
   "source": [
    "key_list = list(netflix.keys())\n",
    "val_list = list(netflix.values())\n",
    " \n",
    "# print key with val 100\n",
    "position = val_list.index(54948)\n",
    "print(key_list[position])"
   ]
  },
  {
   "cell_type": "code",
   "execution_count": 20,
   "metadata": {},
   "outputs": [
    {
     "data": {
      "text/plain": [
       "3719550"
      ]
     },
     "execution_count": 20,
     "metadata": {},
     "output_type": "execute_result"
    }
   ],
   "source": [
    "max(netflix.values())"
   ]
  },
  {
   "cell_type": "code",
   "execution_count": 22,
   "metadata": {},
   "outputs": [
    {
     "name": "stdout",
     "output_type": "stream",
     "text": [
      "Gaga: Five Foot Two\n"
     ]
    }
   ],
   "source": [
    "key_list = list(netflix.keys())\n",
    "val_list = list(netflix.values())\n",
    " \n",
    "# print key with val 100\n",
    "position = val_list.index(3719550)\n",
    "print(key_list[position])"
   ]
  },
  {
   "cell_type": "code",
   "execution_count": 25,
   "metadata": {},
   "outputs": [
    {
     "name": "stdout",
     "output_type": "stream",
     "text": [
      "Most Popular: Gaga: Five Foot Two\n",
      "Least Popular: Hilda\n"
     ]
    }
   ],
   "source": [
    "#udemy logic\n",
    "print(\"Most Popular: \" + max(netflix, key = netflix.get))\n",
    "print(\"Least Popular: \" + min(netflix, key = netflix.get))"
   ]
  },
  {
   "cell_type": "code",
   "execution_count": null,
   "metadata": {},
   "outputs": [],
   "source": []
  },
  {
   "cell_type": "code",
   "execution_count": null,
   "metadata": {},
   "outputs": [],
   "source": []
  },
  {
   "cell_type": "code",
   "execution_count": null,
   "metadata": {},
   "outputs": [],
   "source": []
  },
  {
   "cell_type": "code",
   "execution_count": null,
   "metadata": {},
   "outputs": [],
   "source": []
  },
  {
   "cell_type": "code",
   "execution_count": null,
   "metadata": {},
   "outputs": [],
   "source": []
  },
  {
   "cell_type": "markdown",
   "metadata": {},
   "source": [
    "#### Q2. Which of the shows is the most and least popular in terms of number of views? </br> \n",
    "(Hint: Use the `key` argument in the max() and min() functions.)\n",
    "- Monkey Twins, Maynard\n",
    "- Gaga: Five Foot Two, Hilda\n",
    "- Gerald's Game, White Island\n",
    "- Rafinha Bastos: Ultimatum, The First Line"
   ]
  },
  {
   "cell_type": "markdown",
   "metadata": {},
   "source": [
    "Netflix has just recieved the number of views for the last week as well. This data is given below, in the form of a dictionary"
   ]
  },
  {
   "cell_type": "code",
   "execution_count": null,
   "metadata": {},
   "outputs": [],
   "source": [
    "netflix_last_week = {'The Debt Collector': 229218, 'Act of Vengeance': 191468, 'Paradise Lost': 167846, \"Gerald's Game\": 113298, 'Long Shot': 15190, 'Mak Cun': 244581, 'Our Souls at Night': 188095, 'Out of Thin Air': 183961, \"Paul Hollywood's Big Continental Road Trip\": 207967, 'Satu Hari': 226211, 'Monster High: Boo York, Boo York': 265919, 'Cultivating the Seas: History and Future of the Full-Cycle Cultured Kindai Tuna': 192246, 'Domino': 190538, 'TUNA GIRL': 301819, '5CM': 154371, 'Animal World': 228227, 'Hold the Dark': 222938, 'Lessons from a School Shooting: Notes from Dunblane': 256580, 'Made in Mexico': 199790, 'Single': 155517, 'The 3rd Eye': 251349, 'The Sinking Of Van Der Wijck': 153797, 'Two Catalonias': 189422, 'Bobby Sands: 66 Days': 202461, 'Bard of Blood': 241928, 'Deliha 2': 304552, 'Dragons: Rescue Riders': 155149, 'In the Shadow of the Moon': 222999, 'Skylines': 118737, 'Sturgill Simpson Presents Sound & Fury': 43590, 'The Politician': 11902, 'Weeds on Fire': 243382, 'Much Loved': 190123, 'Joseph: King of Dreams': 46104, 'Malaal': 70961, 'The Grandmaster': 44908, 'The Inmate': 19574, 'The Hurricane Heist': 167696, 'Def Comedy Jam 25': 208075, 'Restless Creature: Wendy Whelan': 22976, 'Print the Legend': 161584, 'Birders': 257668, 'Furie': 282266, 'Leap!': 124338, 'Oh! Baby (Malayalam)': 18203, 'Oh! Baby (Tamil)': 131481, 'USS Indianapolis: Men of Courage': 76558, 'A Wrinkle in Time': 169365, 'Teach Us All': 50378, 'White Island': 299779, 'Inside Man: Most Wanted': 123346, 'Jeff Dunham: Beside Himself': 283561, 'China Salesman': 182041, 'Swearnet: The Movie': 63809, 'The Bar': 41243, 'Manmadhudu 2': 261349, 'Team Kaylie': 101283, 'Under the Eiffel Tower': 83650, 'Audrie & Daisy': 106092, 'Iliza Shlesinger: Confirmed Kills': 255103, 'BONDING': 202683, 'Do Paise Ki Dhoop Chaar Aane Ki Baarish': 32329, '20 Feet From Stardom': 165178, 'In Darkness': 95259, 'Gaga: Five Foot Two': 36638, 'The Bad Batch': 197820, 'SMOSH: The Movie': 196519, 'King of Boys': 49332, 'Merry Men: The Real Yoruba Demons': 293229, \"Sarah's Key\": 178523, 'The Wedding Party 2: Destination Dubai': 51211, 'Vagabond': 116831, 'Battlefish': 5448, 'DRAGON PILOT: Hisone & Masotan': 281873, 'Hilda': 21348, 'Maniac': 268187, 'Quincy': 139696, 'Rafinha Bastos: Ultimatum': 105449, 'The Good Cop': 73230, 'Between Two Ferns: The Movie': 135600, 'Criminal: France': 243469, 'Criminal: Germany': 285211, 'Criminal: Spain': 45184, 'Criminal: UK': 117056, 'Daddy Issues': 267329, \"Inside Bill's Brain: Decoding Bill Gates\": 64083, 'The Hockey Girls': 114146, 'Travel Mates 2': 21088, 'True: Tricky Treat Day': 116504, 'Two Sentence Horror Stories': 274471, 'Mad World': 225244, 'Mobile Suit Gundam UC': 47306, 'The Bund': 146872, 'The First Line': 148861, 'Maynard': 87252, 'Monkey Twins': 199274, 'Bitcoin Heist': 41105, 'I Am Not Madame Bovary': 57841, 'Vincent N Roxxy': 207453, \"Chef's Table: France\": 200536}"
   ]
  },
  {
   "cell_type": "markdown",
   "metadata": {},
   "source": [
    "#### Q3. Netflix has just recieved the number of views for the last week as well. Add these views to the total views and find the most popular title in terms of views. Also find out how many views this title has? \n",
    "- Title: Deliha 2, Views: 3943452\n",
    "- Title: Dragons: Rescue Riders, Views: 3996388\n",
    "- Title: Rafinha Bastos: Ultimatum, Views: 3575445\n",
    "- Title: Gaga: Five Foot Two, Views: 3756188"
   ]
  },
  {
   "cell_type": "code",
   "execution_count": 29,
   "metadata": {},
   "outputs": [
    {
     "ename": "TypeError",
     "evalue": "unhashable type: 'slice'",
     "output_type": "error",
     "traceback": [
      "\u001b[1;31m---------------------------------------------------------------------------\u001b[0m",
      "\u001b[1;31mTypeError\u001b[0m                                 Traceback (most recent call last)",
      "Input \u001b[1;32mIn [29]\u001b[0m, in \u001b[0;36m<cell line: 2>\u001b[1;34m()\u001b[0m\n\u001b[0;32m      1\u001b[0m netflix \u001b[38;5;241m=\u001b[39m {\u001b[38;5;124m'\u001b[39m\u001b[38;5;124mThe Debt Collector\u001b[39m\u001b[38;5;124m'\u001b[39m: \u001b[38;5;241m1821195\u001b[39m, \u001b[38;5;124m'\u001b[39m\u001b[38;5;124mAct of Vengeance\u001b[39m\u001b[38;5;124m'\u001b[39m: \u001b[38;5;241m2804479\u001b[39m, \u001b[38;5;124m'\u001b[39m\u001b[38;5;124mParadise Lost\u001b[39m\u001b[38;5;124m'\u001b[39m: \u001b[38;5;241m2195477\u001b[39m, \u001b[38;5;124m\"\u001b[39m\u001b[38;5;124mGerald\u001b[39m\u001b[38;5;124m'\u001b[39m\u001b[38;5;124ms Game\u001b[39m\u001b[38;5;124m\"\u001b[39m: \u001b[38;5;241m3650626\u001b[39m, \u001b[38;5;124m'\u001b[39m\u001b[38;5;124mLong Shot\u001b[39m\u001b[38;5;124m'\u001b[39m: \u001b[38;5;241m638440\u001b[39m, \u001b[38;5;124m'\u001b[39m\u001b[38;5;124mMak Cun\u001b[39m\u001b[38;5;124m'\u001b[39m: \u001b[38;5;241m1010311\u001b[39m, \u001b[38;5;124m'\u001b[39m\u001b[38;5;124mOur Souls at Night\u001b[39m\u001b[38;5;124m'\u001b[39m: \u001b[38;5;241m3028705\u001b[39m, \u001b[38;5;124m'\u001b[39m\u001b[38;5;124mOut of Thin Air\u001b[39m\u001b[38;5;124m'\u001b[39m: \u001b[38;5;241m2681938\u001b[39m, \u001b[38;5;124m\"\u001b[39m\u001b[38;5;124mPaul Hollywood\u001b[39m\u001b[38;5;124m'\u001b[39m\u001b[38;5;124ms Big Continental Road Trip\u001b[39m\u001b[38;5;124m\"\u001b[39m: \u001b[38;5;241m230689\u001b[39m, \u001b[38;5;124m'\u001b[39m\u001b[38;5;124mSatu Hari\u001b[39m\u001b[38;5;124m'\u001b[39m: \u001b[38;5;241m1012350\u001b[39m, \u001b[38;5;124m'\u001b[39m\u001b[38;5;124mMonster High: Boo York, Boo York\u001b[39m\u001b[38;5;124m'\u001b[39m: \u001b[38;5;241m1526025\u001b[39m, \u001b[38;5;124m'\u001b[39m\u001b[38;5;124mCultivating the Seas: History and Future of the Full-Cycle Cultured Kindai Tuna\u001b[39m\u001b[38;5;124m'\u001b[39m: \u001b[38;5;241m2762103\u001b[39m, \u001b[38;5;124m'\u001b[39m\u001b[38;5;124mDomino\u001b[39m\u001b[38;5;124m'\u001b[39m: \u001b[38;5;241m872663\u001b[39m, \u001b[38;5;124m'\u001b[39m\u001b[38;5;124mTUNA GIRL\u001b[39m\u001b[38;5;124m'\u001b[39m: \u001b[38;5;241m2574816\u001b[39m, \u001b[38;5;124m'\u001b[39m\u001b[38;5;124m5CM\u001b[39m\u001b[38;5;124m'\u001b[39m: \u001b[38;5;241m2647713\u001b[39m, \u001b[38;5;124m'\u001b[39m\u001b[38;5;124mAnimal World\u001b[39m\u001b[38;5;124m'\u001b[39m: \u001b[38;5;241m220789\u001b[39m, \u001b[38;5;124m'\u001b[39m\u001b[38;5;124mHold the Dark\u001b[39m\u001b[38;5;124m'\u001b[39m: \u001b[38;5;241m2307432\u001b[39m, \u001b[38;5;124m'\u001b[39m\u001b[38;5;124mLessons from a School Shooting: Notes from Dunblane\u001b[39m\u001b[38;5;124m'\u001b[39m: \u001b[38;5;241m2419534\u001b[39m, \u001b[38;5;124m'\u001b[39m\u001b[38;5;124mMade in Mexico\u001b[39m\u001b[38;5;124m'\u001b[39m: \u001b[38;5;241m3653712\u001b[39m, \u001b[38;5;124m'\u001b[39m\u001b[38;5;124mSingle\u001b[39m\u001b[38;5;124m'\u001b[39m: \u001b[38;5;241m239278\u001b[39m, \u001b[38;5;124m'\u001b[39m\u001b[38;5;124mThe 3rd Eye\u001b[39m\u001b[38;5;124m'\u001b[39m: \u001b[38;5;241m196138\u001b[39m, \u001b[38;5;124m'\u001b[39m\u001b[38;5;124mThe Sinking Of Van Der Wijck\u001b[39m\u001b[38;5;124m'\u001b[39m: \u001b[38;5;241m2831856\u001b[39m, \u001b[38;5;124m'\u001b[39m\u001b[38;5;124mTwo Catalonias\u001b[39m\u001b[38;5;124m'\u001b[39m: \u001b[38;5;241m1337119\u001b[39m, \u001b[38;5;124m'\u001b[39m\u001b[38;5;124mBobby Sands: 66 Days\u001b[39m\u001b[38;5;124m'\u001b[39m: \u001b[38;5;241m2005623\u001b[39m, \u001b[38;5;124m'\u001b[39m\u001b[38;5;124mBard of Blood\u001b[39m\u001b[38;5;124m'\u001b[39m: \u001b[38;5;241m744998\u001b[39m, \u001b[38;5;124m'\u001b[39m\u001b[38;5;124mDeliha 2\u001b[39m\u001b[38;5;124m'\u001b[39m: \u001b[38;5;241m3638900\u001b[39m, \u001b[38;5;124m'\u001b[39m\u001b[38;5;124mDragons: Rescue Riders\u001b[39m\u001b[38;5;124m'\u001b[39m: \u001b[38;5;241m3241239\u001b[39m, \u001b[38;5;124m'\u001b[39m\u001b[38;5;124mIn the Shadow of the Moon\u001b[39m\u001b[38;5;124m'\u001b[39m: \u001b[38;5;241m1213329\u001b[39m, \u001b[38;5;124m'\u001b[39m\u001b[38;5;124mSkylines\u001b[39m\u001b[38;5;124m'\u001b[39m: \u001b[38;5;241m1840094\u001b[39m, \u001b[38;5;124m'\u001b[39m\u001b[38;5;124mSturgill Simpson Presents Sound & Fury\u001b[39m\u001b[38;5;124m'\u001b[39m: \u001b[38;5;241m1915540\u001b[39m, \u001b[38;5;124m'\u001b[39m\u001b[38;5;124mThe Politician\u001b[39m\u001b[38;5;124m'\u001b[39m: \u001b[38;5;241m1019394\u001b[39m, \u001b[38;5;124m'\u001b[39m\u001b[38;5;124mWeeds on Fire\u001b[39m\u001b[38;5;124m'\u001b[39m: \u001b[38;5;241m2273090\u001b[39m, \u001b[38;5;124m'\u001b[39m\u001b[38;5;124mMuch Loved\u001b[39m\u001b[38;5;124m'\u001b[39m: \u001b[38;5;241m3039852\u001b[39m, \u001b[38;5;124m'\u001b[39m\u001b[38;5;124mJoseph: King of Dreams\u001b[39m\u001b[38;5;124m'\u001b[39m: \u001b[38;5;241m1734449\u001b[39m, \u001b[38;5;124m'\u001b[39m\u001b[38;5;124mMalaal\u001b[39m\u001b[38;5;124m'\u001b[39m: \u001b[38;5;241m1926128\u001b[39m, \u001b[38;5;124m'\u001b[39m\u001b[38;5;124mThe Grandmaster\u001b[39m\u001b[38;5;124m'\u001b[39m: \u001b[38;5;241m2549410\u001b[39m, \u001b[38;5;124m'\u001b[39m\u001b[38;5;124mThe Inmate\u001b[39m\u001b[38;5;124m'\u001b[39m: \u001b[38;5;241m130965\u001b[39m, \u001b[38;5;124m'\u001b[39m\u001b[38;5;124mThe Hurricane Heist\u001b[39m\u001b[38;5;124m'\u001b[39m: \u001b[38;5;241m2191538\u001b[39m, \u001b[38;5;124m'\u001b[39m\u001b[38;5;124mDef Comedy Jam 25\u001b[39m\u001b[38;5;124m'\u001b[39m: \u001b[38;5;241m1392697\u001b[39m, \u001b[38;5;124m'\u001b[39m\u001b[38;5;124mRestless Creature: Wendy Whelan\u001b[39m\u001b[38;5;124m'\u001b[39m: \u001b[38;5;241m2474412\u001b[39m, \u001b[38;5;124m'\u001b[39m\u001b[38;5;124mPrint the Legend\u001b[39m\u001b[38;5;124m'\u001b[39m: \u001b[38;5;241m548250\u001b[39m, \u001b[38;5;124m'\u001b[39m\u001b[38;5;124mBirders\u001b[39m\u001b[38;5;124m'\u001b[39m: \u001b[38;5;241m3478883\u001b[39m, \u001b[38;5;124m'\u001b[39m\u001b[38;5;124mFurie\u001b[39m\u001b[38;5;124m'\u001b[39m: \u001b[38;5;241m2755115\u001b[39m, \u001b[38;5;124m'\u001b[39m\u001b[38;5;124mLeap!\u001b[39m\u001b[38;5;124m'\u001b[39m: \u001b[38;5;241m1401638\u001b[39m, \u001b[38;5;124m'\u001b[39m\u001b[38;5;124mOh! Baby (Malayalam)\u001b[39m\u001b[38;5;124m'\u001b[39m: \u001b[38;5;241m839139\u001b[39m, \u001b[38;5;124m'\u001b[39m\u001b[38;5;124mOh! Baby (Tamil)\u001b[39m\u001b[38;5;124m'\u001b[39m: \u001b[38;5;241m2691505\u001b[39m, \u001b[38;5;124m'\u001b[39m\u001b[38;5;124mUSS Indianapolis: Men of Courage\u001b[39m\u001b[38;5;124m'\u001b[39m: \u001b[38;5;241m3286014\u001b[39m, \u001b[38;5;124m'\u001b[39m\u001b[38;5;124mA Wrinkle in Time\u001b[39m\u001b[38;5;124m'\u001b[39m: \u001b[38;5;241m1258861\u001b[39m, \u001b[38;5;124m'\u001b[39m\u001b[38;5;124mTeach Us All\u001b[39m\u001b[38;5;124m'\u001b[39m: \u001b[38;5;241m2428947\u001b[39m, \u001b[38;5;124m'\u001b[39m\u001b[38;5;124mWhite Island\u001b[39m\u001b[38;5;124m'\u001b[39m: \u001b[38;5;241m1152905\u001b[39m, \u001b[38;5;124m'\u001b[39m\u001b[38;5;124mInside Man: Most Wanted\u001b[39m\u001b[38;5;124m'\u001b[39m: \u001b[38;5;241m2812661\u001b[39m, \u001b[38;5;124m'\u001b[39m\u001b[38;5;124mJeff Dunham: Beside Himself\u001b[39m\u001b[38;5;124m'\u001b[39m: \u001b[38;5;241m2930368\u001b[39m, \u001b[38;5;124m'\u001b[39m\u001b[38;5;124mChina Salesman\u001b[39m\u001b[38;5;124m'\u001b[39m: \u001b[38;5;241m3377292\u001b[39m, \u001b[38;5;124m'\u001b[39m\u001b[38;5;124mSwearnet: The Movie\u001b[39m\u001b[38;5;124m'\u001b[39m: \u001b[38;5;241m949689\u001b[39m, \u001b[38;5;124m'\u001b[39m\u001b[38;5;124mThe Bar\u001b[39m\u001b[38;5;124m'\u001b[39m: \u001b[38;5;241m620655\u001b[39m, \u001b[38;5;124m'\u001b[39m\u001b[38;5;124mManmadhudu 2\u001b[39m\u001b[38;5;124m'\u001b[39m: \u001b[38;5;241m1842761\u001b[39m, \u001b[38;5;124m'\u001b[39m\u001b[38;5;124mTeam Kaylie\u001b[39m\u001b[38;5;124m'\u001b[39m: \u001b[38;5;241m359856\u001b[39m, \u001b[38;5;124m'\u001b[39m\u001b[38;5;124mUnder the Eiffel Tower\u001b[39m\u001b[38;5;124m'\u001b[39m: \u001b[38;5;241m2298237\u001b[39m, \u001b[38;5;124m'\u001b[39m\u001b[38;5;124mAudrie & Daisy\u001b[39m\u001b[38;5;124m'\u001b[39m: \u001b[38;5;241m1573055\u001b[39m, \u001b[38;5;124m'\u001b[39m\u001b[38;5;124mIliza Shlesinger: Confirmed Kills\u001b[39m\u001b[38;5;124m'\u001b[39m: \u001b[38;5;241m365220\u001b[39m, \u001b[38;5;124m'\u001b[39m\u001b[38;5;124mBONDING\u001b[39m\u001b[38;5;124m'\u001b[39m: \u001b[38;5;241m1664242\u001b[39m, \u001b[38;5;124m'\u001b[39m\u001b[38;5;124mDo Paise Ki Dhoop Chaar Aane Ki Baarish\u001b[39m\u001b[38;5;124m'\u001b[39m: \u001b[38;5;241m2770879\u001b[39m, \u001b[38;5;124m'\u001b[39m\u001b[38;5;124m20 Feet From Stardom\u001b[39m\u001b[38;5;124m'\u001b[39m: \u001b[38;5;241m2931730\u001b[39m, \u001b[38;5;124m'\u001b[39m\u001b[38;5;124mIn Darkness\u001b[39m\u001b[38;5;124m'\u001b[39m: \u001b[38;5;241m3248749\u001b[39m, \u001b[38;5;124m'\u001b[39m\u001b[38;5;124mGaga: Five Foot Two\u001b[39m\u001b[38;5;124m'\u001b[39m: \u001b[38;5;241m3719550\u001b[39m, \u001b[38;5;124m'\u001b[39m\u001b[38;5;124mThe Bad Batch\u001b[39m\u001b[38;5;124m'\u001b[39m: \u001b[38;5;241m3656264\u001b[39m, \u001b[38;5;124m'\u001b[39m\u001b[38;5;124mSMOSH: The Movie\u001b[39m\u001b[38;5;124m'\u001b[39m: \u001b[38;5;241m3697506\u001b[39m, \u001b[38;5;124m'\u001b[39m\u001b[38;5;124mKing of Boys\u001b[39m\u001b[38;5;124m'\u001b[39m: \u001b[38;5;241m584112\u001b[39m, \u001b[38;5;124m'\u001b[39m\u001b[38;5;124mMerry Men: The Real Yoruba Demons\u001b[39m\u001b[38;5;124m'\u001b[39m: \u001b[38;5;241m2035595\u001b[39m, \u001b[38;5;124m\"\u001b[39m\u001b[38;5;124mSarah\u001b[39m\u001b[38;5;124m'\u001b[39m\u001b[38;5;124ms Key\u001b[39m\u001b[38;5;124m\"\u001b[39m: \u001b[38;5;241m1337902\u001b[39m, \u001b[38;5;124m'\u001b[39m\u001b[38;5;124mThe Wedding Party 2: Destination Dubai\u001b[39m\u001b[38;5;124m'\u001b[39m: \u001b[38;5;241m1471204\u001b[39m, \u001b[38;5;124m'\u001b[39m\u001b[38;5;124mVagabond\u001b[39m\u001b[38;5;124m'\u001b[39m: \u001b[38;5;241m1600432\u001b[39m, \u001b[38;5;124m'\u001b[39m\u001b[38;5;124mBattlefish\u001b[39m\u001b[38;5;124m'\u001b[39m: \u001b[38;5;241m723021\u001b[39m, \u001b[38;5;124m'\u001b[39m\u001b[38;5;124mDRAGON PILOT: Hisone & Masotan\u001b[39m\u001b[38;5;124m'\u001b[39m: \u001b[38;5;241m602919\u001b[39m, \u001b[38;5;124m'\u001b[39m\u001b[38;5;124mHilda\u001b[39m\u001b[38;5;124m'\u001b[39m: \u001b[38;5;241m54948\u001b[39m, \u001b[38;5;124m'\u001b[39m\u001b[38;5;124mManiac\u001b[39m\u001b[38;5;124m'\u001b[39m: \u001b[38;5;241m1348196\u001b[39m, \u001b[38;5;124m'\u001b[39m\u001b[38;5;124mQuincy\u001b[39m\u001b[38;5;124m'\u001b[39m: \u001b[38;5;241m2601704\u001b[39m, \u001b[38;5;124m'\u001b[39m\u001b[38;5;124mRafinha Bastos: Ultimatum\u001b[39m\u001b[38;5;124m'\u001b[39m: \u001b[38;5;241m3469996\u001b[39m, \u001b[38;5;124m'\u001b[39m\u001b[38;5;124mThe Good Cop\u001b[39m\u001b[38;5;124m'\u001b[39m: \u001b[38;5;241m2265521\u001b[39m, \u001b[38;5;124m'\u001b[39m\u001b[38;5;124mBetween Two Ferns: The Movie\u001b[39m\u001b[38;5;124m'\u001b[39m: \u001b[38;5;241m3146508\u001b[39m, \u001b[38;5;124m'\u001b[39m\u001b[38;5;124mCriminal: France\u001b[39m\u001b[38;5;124m'\u001b[39m: \u001b[38;5;241m2021409\u001b[39m, \u001b[38;5;124m'\u001b[39m\u001b[38;5;124mCriminal: Germany\u001b[39m\u001b[38;5;124m'\u001b[39m: \u001b[38;5;241m658824\u001b[39m, \u001b[38;5;124m'\u001b[39m\u001b[38;5;124mCriminal: Spain\u001b[39m\u001b[38;5;124m'\u001b[39m: \u001b[38;5;241m3078634\u001b[39m, \u001b[38;5;124m'\u001b[39m\u001b[38;5;124mCriminal: UK\u001b[39m\u001b[38;5;124m'\u001b[39m: \u001b[38;5;241m2721398\u001b[39m, \u001b[38;5;124m'\u001b[39m\u001b[38;5;124mDaddy Issues\u001b[39m\u001b[38;5;124m'\u001b[39m: \u001b[38;5;241m2119035\u001b[39m, \u001b[38;5;124m\"\u001b[39m\u001b[38;5;124mInside Bill\u001b[39m\u001b[38;5;124m'\u001b[39m\u001b[38;5;124ms Brain: Decoding Bill Gates\u001b[39m\u001b[38;5;124m\"\u001b[39m: \u001b[38;5;241m1755104\u001b[39m, \u001b[38;5;124m'\u001b[39m\u001b[38;5;124mThe Hockey Girls\u001b[39m\u001b[38;5;124m'\u001b[39m: \u001b[38;5;241m2000507\u001b[39m, \u001b[38;5;124m'\u001b[39m\u001b[38;5;124mTravel Mates 2\u001b[39m\u001b[38;5;124m'\u001b[39m: \u001b[38;5;241m707260\u001b[39m, \u001b[38;5;124m'\u001b[39m\u001b[38;5;124mTrue: Tricky Treat Day\u001b[39m\u001b[38;5;124m'\u001b[39m: \u001b[38;5;241m3213199\u001b[39m, \u001b[38;5;124m'\u001b[39m\u001b[38;5;124mTwo Sentence Horror Stories\u001b[39m\u001b[38;5;124m'\u001b[39m: \u001b[38;5;241m2438329\u001b[39m, \u001b[38;5;124m'\u001b[39m\u001b[38;5;124mMad World\u001b[39m\u001b[38;5;124m'\u001b[39m: \u001b[38;5;241m2281773\u001b[39m, \u001b[38;5;124m'\u001b[39m\u001b[38;5;124mMobile Suit Gundam UC\u001b[39m\u001b[38;5;124m'\u001b[39m: \u001b[38;5;241m778879\u001b[39m, \u001b[38;5;124m'\u001b[39m\u001b[38;5;124mThe Bund\u001b[39m\u001b[38;5;124m'\u001b[39m: \u001b[38;5;241m1729892\u001b[39m, \u001b[38;5;124m'\u001b[39m\u001b[38;5;124mThe First Line\u001b[39m\u001b[38;5;124m'\u001b[39m: \u001b[38;5;241m674591\u001b[39m, \u001b[38;5;124m'\u001b[39m\u001b[38;5;124mMaynard\u001b[39m\u001b[38;5;124m'\u001b[39m: \u001b[38;5;241m84986\u001b[39m, \u001b[38;5;124m'\u001b[39m\u001b[38;5;124mMonkey Twins\u001b[39m\u001b[38;5;124m'\u001b[39m: \u001b[38;5;241m3277179\u001b[39m, \u001b[38;5;124m'\u001b[39m\u001b[38;5;124mBitcoin Heist\u001b[39m\u001b[38;5;124m'\u001b[39m: \u001b[38;5;241m1450158\u001b[39m, \u001b[38;5;124m'\u001b[39m\u001b[38;5;124mI Am Not Madame Bovary\u001b[39m\u001b[38;5;124m'\u001b[39m: \u001b[38;5;241m2763830\u001b[39m, \u001b[38;5;124m'\u001b[39m\u001b[38;5;124mVincent N Roxxy\u001b[39m\u001b[38;5;124m'\u001b[39m: \u001b[38;5;241m1961810\u001b[39m, \u001b[38;5;124m\"\u001b[39m\u001b[38;5;124mChef\u001b[39m\u001b[38;5;124m'\u001b[39m\u001b[38;5;124ms Table: France\u001b[39m\u001b[38;5;124m\"\u001b[39m: \u001b[38;5;241m2065738\u001b[39m}\n\u001b[1;32m----> 2\u001b[0m netflix_last_week\u001b[38;5;241m=\u001b[39m\u001b[43mnetflix\u001b[49m\u001b[43m[\u001b[49m\u001b[43m:\u001b[49m\u001b[43m]\u001b[49m\n\u001b[0;32m      3\u001b[0m netflix_last_week\u001b[38;5;241m=\u001b[39mnetflix_last_week\u001b[38;5;241m.\u001b[39mupdate({\u001b[38;5;124m\"\u001b[39m\u001b[38;5;124mDeliha 2\u001b[39m\u001b[38;5;124m\"\u001b[39m:\u001b[38;5;241m3943452\u001b[39m}, {\u001b[38;5;124m\"\u001b[39m\u001b[38;5;124mDragons: Rescue Riders\u001b[39m\u001b[38;5;124m\"\u001b[39m:\u001b[38;5;241m3996388\u001b[39m},{\u001b[38;5;124m\"\u001b[39m\u001b[38;5;124mRafinha Bastos: Ultimatum\u001b[39m\u001b[38;5;124m\"\u001b[39m:\u001b[38;5;241m3575445\u001b[39m},{ \u001b[38;5;124m\"\u001b[39m\u001b[38;5;124mGaga: Five Foot Two\u001b[39m\u001b[38;5;124m\"\u001b[39m: \u001b[38;5;241m3756188\u001b[39m})\n",
      "\u001b[1;31mTypeError\u001b[0m: unhashable type: 'slice'"
     ]
    }
   ],
   "source": [
    "netflix = {'The Debt Collector': 1821195, 'Act of Vengeance': 2804479, 'Paradise Lost': 2195477, \"Gerald's Game\": 3650626, 'Long Shot': 638440, 'Mak Cun': 1010311, 'Our Souls at Night': 3028705, 'Out of Thin Air': 2681938, \"Paul Hollywood's Big Continental Road Trip\": 230689, 'Satu Hari': 1012350, 'Monster High: Boo York, Boo York': 1526025, 'Cultivating the Seas: History and Future of the Full-Cycle Cultured Kindai Tuna': 2762103, 'Domino': 872663, 'TUNA GIRL': 2574816, '5CM': 2647713, 'Animal World': 220789, 'Hold the Dark': 2307432, 'Lessons from a School Shooting: Notes from Dunblane': 2419534, 'Made in Mexico': 3653712, 'Single': 239278, 'The 3rd Eye': 196138, 'The Sinking Of Van Der Wijck': 2831856, 'Two Catalonias': 1337119, 'Bobby Sands: 66 Days': 2005623, 'Bard of Blood': 744998, 'Deliha 2': 3638900, 'Dragons: Rescue Riders': 3241239, 'In the Shadow of the Moon': 1213329, 'Skylines': 1840094, 'Sturgill Simpson Presents Sound & Fury': 1915540, 'The Politician': 1019394, 'Weeds on Fire': 2273090, 'Much Loved': 3039852, 'Joseph: King of Dreams': 1734449, 'Malaal': 1926128, 'The Grandmaster': 2549410, 'The Inmate': 130965, 'The Hurricane Heist': 2191538, 'Def Comedy Jam 25': 1392697, 'Restless Creature: Wendy Whelan': 2474412, 'Print the Legend': 548250, 'Birders': 3478883, 'Furie': 2755115, 'Leap!': 1401638, 'Oh! Baby (Malayalam)': 839139, 'Oh! Baby (Tamil)': 2691505, 'USS Indianapolis: Men of Courage': 3286014, 'A Wrinkle in Time': 1258861, 'Teach Us All': 2428947, 'White Island': 1152905, 'Inside Man: Most Wanted': 2812661, 'Jeff Dunham: Beside Himself': 2930368, 'China Salesman': 3377292, 'Swearnet: The Movie': 949689, 'The Bar': 620655, 'Manmadhudu 2': 1842761, 'Team Kaylie': 359856, 'Under the Eiffel Tower': 2298237, 'Audrie & Daisy': 1573055, 'Iliza Shlesinger: Confirmed Kills': 365220, 'BONDING': 1664242, 'Do Paise Ki Dhoop Chaar Aane Ki Baarish': 2770879, '20 Feet From Stardom': 2931730, 'In Darkness': 3248749, 'Gaga: Five Foot Two': 3719550, 'The Bad Batch': 3656264, 'SMOSH: The Movie': 3697506, 'King of Boys': 584112, 'Merry Men: The Real Yoruba Demons': 2035595, \"Sarah's Key\": 1337902, 'The Wedding Party 2: Destination Dubai': 1471204, 'Vagabond': 1600432, 'Battlefish': 723021, 'DRAGON PILOT: Hisone & Masotan': 602919, 'Hilda': 54948, 'Maniac': 1348196, 'Quincy': 2601704, 'Rafinha Bastos: Ultimatum': 3469996, 'The Good Cop': 2265521, 'Between Two Ferns: The Movie': 3146508, 'Criminal: France': 2021409, 'Criminal: Germany': 658824, 'Criminal: Spain': 3078634, 'Criminal: UK': 2721398, 'Daddy Issues': 2119035, \"Inside Bill's Brain: Decoding Bill Gates\": 1755104, 'The Hockey Girls': 2000507, 'Travel Mates 2': 707260, 'True: Tricky Treat Day': 3213199, 'Two Sentence Horror Stories': 2438329, 'Mad World': 2281773, 'Mobile Suit Gundam UC': 778879, 'The Bund': 1729892, 'The First Line': 674591, 'Maynard': 84986, 'Monkey Twins': 3277179, 'Bitcoin Heist': 1450158, 'I Am Not Madame Bovary': 2763830, 'Vincent N Roxxy': 1961810, \"Chef's Table: France\": 2065738}\n",
    "netflix_last_week_views=({\"Deliha 2\":3943452}, {\"Dragons: Rescue Riders\":3996388},{\"Rafinha Bastos: Ultimatum\":3575445},{ \"Gaga: Five Foot Two\": 3756188})"
   ]
  },
  {
   "cell_type": "code",
   "execution_count": 30,
   "metadata": {},
   "outputs": [
    {
     "name": "stdout",
     "output_type": "stream",
     "text": [
      "3943452\n"
     ]
    }
   ],
   "source": [
    "netflix = {'The Debt Collector': 1821195, 'Act of Vengeance': 2804479, 'Paradise Lost': 2195477, \"Gerald's Game\": 3650626, 'Long Shot': 638440, 'Mak Cun': 1010311, 'Our Souls at Night': 3028705, 'Out of Thin Air': 2681938, \"Paul Hollywood's Big Continental Road Trip\": 230689, 'Satu Hari': 1012350, 'Monster High: Boo York, Boo York': 1526025, 'Cultivating the Seas: History and Future of the Full-Cycle Cultured Kindai Tuna': 2762103, 'Domino': 872663, 'TUNA GIRL': 2574816, '5CM': 2647713, 'Animal World': 220789, 'Hold the Dark': 2307432, 'Lessons from a School Shooting: Notes from Dunblane': 2419534, 'Made in Mexico': 3653712, 'Single': 239278, 'The 3rd Eye': 196138, 'The Sinking Of Van Der Wijck': 2831856, 'Two Catalonias': 1337119, 'Bobby Sands: 66 Days': 2005623, 'Bard of Blood': 744998, 'Deliha 2': 3638900, 'Dragons: Rescue Riders': 3241239, 'In the Shadow of the Moon': 1213329, 'Skylines': 1840094, 'Sturgill Simpson Presents Sound & Fury': 1915540, 'The Politician': 1019394, 'Weeds on Fire': 2273090, 'Much Loved': 3039852, 'Joseph: King of Dreams': 1734449, 'Malaal': 1926128, 'The Grandmaster': 2549410, 'The Inmate': 130965, 'The Hurricane Heist': 2191538, 'Def Comedy Jam 25': 1392697, 'Restless Creature: Wendy Whelan': 2474412, 'Print the Legend': 548250, 'Birders': 3478883, 'Furie': 2755115, 'Leap!': 1401638, 'Oh! Baby (Malayalam)': 839139, 'Oh! Baby (Tamil)': 2691505, 'USS Indianapolis: Men of Courage': 3286014, 'A Wrinkle in Time': 1258861, 'Teach Us All': 2428947, 'White Island': 1152905, 'Inside Man: Most Wanted': 2812661, 'Jeff Dunham: Beside Himself': 2930368, 'China Salesman': 3377292, 'Swearnet: The Movie': 949689, 'The Bar': 620655, 'Manmadhudu 2': 1842761, 'Team Kaylie': 359856, 'Under the Eiffel Tower': 2298237, 'Audrie & Daisy': 1573055, 'Iliza Shlesinger: Confirmed Kills': 365220, 'BONDING': 1664242, 'Do Paise Ki Dhoop Chaar Aane Ki Baarish': 2770879, '20 Feet From Stardom': 2931730, 'In Darkness': 3248749, 'Gaga: Five Foot Two': 3719550, 'The Bad Batch': 3656264, 'SMOSH: The Movie': 3697506, 'King of Boys': 584112, 'Merry Men: The Real Yoruba Demons': 2035595, \"Sarah's Key\": 1337902, 'The Wedding Party 2: Destination Dubai': 1471204, 'Vagabond': 1600432, 'Battlefish': 723021, 'DRAGON PILOT: Hisone & Masotan': 602919, 'Hilda': 54948, 'Maniac': 1348196, 'Quincy': 2601704, 'Rafinha Bastos: Ultimatum': 3469996, 'The Good Cop': 2265521, 'Between Two Ferns: The Movie': 3146508, 'Criminal: France': 2021409, 'Criminal: Germany': 658824, 'Criminal: Spain': 3078634, 'Criminal: UK': 2721398, 'Daddy Issues': 2119035, \"Inside Bill's Brain: Decoding Bill Gates\": 1755104, 'The Hockey Girls': 2000507, 'Travel Mates 2': 707260, 'True: Tricky Treat Day': 3213199, 'Two Sentence Horror Stories': 2438329, 'Mad World': 2281773, 'Mobile Suit Gundam UC': 778879, 'The Bund': 1729892, 'The First Line': 674591, 'Maynard': 84986, 'Monkey Twins': 3277179, 'Bitcoin Heist': 1450158, 'I Am Not Madame Bovary': 2763830, 'Vincent N Roxxy': 1961810, \"Chef's Table: France\": 2065738}\n",
    "\n",
    "netflix_last_week = {'The Debt Collector': 229218, 'Act of Vengeance': 191468, 'Paradise Lost': 167846, \"Gerald's Game\": 113298, 'Long Shot': 15190, 'Mak Cun': 244581, 'Our Souls at Night': 188095, 'Out of Thin Air': 183961, \"Paul Hollywood's Big Continental Road Trip\": 207967, 'Satu Hari': 226211, 'Monster High: Boo York, Boo York': 265919, 'Cultivating the Seas: History and Future of the Full-Cycle Cultured Kindai Tuna': 192246, 'Domino': 190538, 'TUNA GIRL': 301819, '5CM': 154371, 'Animal World': 228227, 'Hold the Dark': 222938, 'Lessons from a School Shooting: Notes from Dunblane': 256580, 'Made in Mexico': 199790, 'Single': 155517, 'The 3rd Eye': 251349, 'The Sinking Of Van Der Wijck': 153797, 'Two Catalonias': 189422, 'Bobby Sands: 66 Days': 202461, 'Bard of Blood': 241928, 'Deliha 2': 304552, 'Dragons: Rescue Riders': 155149, 'In the Shadow of the Moon': 222999, 'Skylines': 118737, 'Sturgill Simpson Presents Sound & Fury': 43590, 'The Politician': 11902, 'Weeds on Fire': 243382, 'Much Loved': 190123, 'Joseph: King of Dreams': 46104, 'Malaal': 70961, 'The Grandmaster': 44908, 'The Inmate': 19574, 'The Hurricane Heist': 167696, 'Def Comedy Jam 25': 208075, 'Restless Creature: Wendy Whelan': 22976, 'Print the Legend': 161584, 'Birders': 257668, 'Furie': 282266, 'Leap!': 124338, 'Oh! Baby (Malayalam)': 18203, 'Oh! Baby (Tamil)': 131481, 'USS Indianapolis: Men of Courage': 76558, 'A Wrinkle in Time': 169365, 'Teach Us All': 50378, 'White Island': 299779, 'Inside Man: Most Wanted': 123346, 'Jeff Dunham: Beside Himself': 283561, 'China Salesman': 182041, 'Swearnet: The Movie': 63809, 'The Bar': 41243, 'Manmadhudu 2': 261349, 'Team Kaylie': 101283, 'Under the Eiffel Tower': 83650, 'Audrie & Daisy': 106092, 'Iliza Shlesinger: Confirmed Kills': 255103, 'BONDING': 202683, 'Do Paise Ki Dhoop Chaar Aane Ki Baarish': 32329, '20 Feet From Stardom': 165178, 'In Darkness': 95259, 'Gaga: Five Foot Two': 36638, 'The Bad Batch': 197820, 'SMOSH: The Movie': 196519, 'King of Boys': 49332, 'Merry Men: The Real Yoruba Demons': 293229, \"Sarah's Key\": 178523, 'The Wedding Party 2: Destination Dubai': 51211, 'Vagabond': 116831, 'Battlefish': 5448, 'DRAGON PILOT: Hisone & Masotan': 281873, 'Hilda': 21348, 'Maniac': 268187, 'Quincy': 139696, 'Rafinha Bastos: Ultimatum': 105449, 'The Good Cop': 73230, 'Between Two Ferns: The Movie': 135600, 'Criminal: France': 243469, 'Criminal: Germany': 285211, 'Criminal: Spain': 45184, 'Criminal: UK': 117056, 'Daddy Issues': 267329, \"Inside Bill's Brain: Decoding Bill Gates\": 64083, 'The Hockey Girls': 114146, 'Travel Mates 2': 21088, 'True: Tricky Treat Day': 116504, 'Two Sentence Horror Stories': 274471, 'Mad World': 225244, 'Mobile Suit Gundam UC': 47306, 'The Bund': 146872, 'The First Line': 148861, 'Maynard': 87252, 'Monkey Twins': 199274, 'Bitcoin Heist': 41105, 'I Am Not Madame Bovary': 57841, 'Vincent N Roxxy': 207453, \"Chef's Table: France\": 200536}\n",
    "\n",
    "for i,j in zip(netflix_last_week, netflix):\n",
    "    if i == j:\n",
    "        #print(\"HAI\")\n",
    "        netflix[i] = netflix[i]+ netflix_last_week[i]\n",
    "        \n",
    "print(max(list(netflix.values())))        "
   ]
  },
  {
   "cell_type": "code",
   "execution_count": null,
   "metadata": {},
   "outputs": [],
   "source": []
  }
 ],
 "metadata": {
  "kernelspec": {
   "display_name": "Python 3 (ipykernel)",
   "language": "python",
   "name": "python3"
  },
  "language_info": {
   "codemirror_mode": {
    "name": "ipython",
    "version": 3
   },
   "file_extension": ".py",
   "mimetype": "text/x-python",
   "name": "python",
   "nbconvert_exporter": "python",
   "pygments_lexer": "ipython3",
   "version": "3.9.12"
  }
 },
 "nbformat": 4,
 "nbformat_minor": 2
}
