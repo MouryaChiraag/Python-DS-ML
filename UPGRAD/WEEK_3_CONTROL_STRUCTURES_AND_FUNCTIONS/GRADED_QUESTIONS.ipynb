{
 "cells": [
  {
   "cell_type": "code",
   "execution_count": 1,
   "id": "a5528bda",
   "metadata": {},
   "outputs": [],
   "source": [
    "#What will the output be of ((500//7) % 5) ** 3?"
   ]
  },
  {
   "cell_type": "code",
   "execution_count": 2,
   "id": "41352f7f",
   "metadata": {},
   "outputs": [
    {
     "data": {
      "text/plain": [
       "1"
      ]
     },
     "execution_count": 2,
     "metadata": {},
     "output_type": "execute_result"
    }
   ],
   "source": [
    " ((500//7) % 5) ** 3"
   ]
  },
  {
   "cell_type": "code",
   "execution_count": 11,
   "id": "1ed0ac1e",
   "metadata": {},
   "outputs": [
    {
     "name": "stdout",
     "output_type": "stream",
     "text": [
      "Get input for the first rational number\n",
      "9\n",
      "8\n",
      "Create the first rational number object\n",
      "Get input for the second rational number\n",
      "7\n",
      "6\n",
      "Create the second rational number object\n",
      "Perform addition, subtraction, multiplication, and division\n",
      "55 / 24\n",
      "-1 / 24\n",
      "21 / 16\n",
      "27 / 28\n"
     ]
    }
   ],
   "source": [
    "class Rational:\n",
    "    def __init__(self, numerator, denominator): \n",
    "        self.numerator = numerator \n",
    "        self.denominator = denominator\n",
    "\n",
    "    def __add__(self, other):\n",
    "        # Calculate the numerator and denominator for addition\n",
    "        numerator = self.numerator * other.denominator + other.numerator * self.denominator\n",
    "        denominator = self.denominator * other.denominator\n",
    "        return Rational(numerator, denominator)\n",
    "\n",
    "    def __sub__(self, other):\n",
    "        # Calculate the numerator and denominator for subtraction\n",
    "        numerator = self.numerator * other.denominator - other.numerator * self.denominator\n",
    "        denominator = self.denominator * other.denominator\n",
    "        return Rational(numerator, denominator)\n",
    "\n",
    "    def __mul__(self, other):\n",
    "        # Calculate the numerator and denominator for multiplication\n",
    "        numerator = self.numerator * other.numerator\n",
    "        denominator = self.denominator * other.denominator\n",
    "        return Rational(numerator, denominator)\n",
    "\n",
    "    def __truediv__(self, other):\n",
    "        # Calculate the numerator and denominator for division\n",
    "        numerator = self.numerator * other.denominator\n",
    "        denominator = self.denominator * other.numerator\n",
    "        return Rational(numerator, denominator)\n",
    "\n",
    "    def display(self):\n",
    "        # Simplify the rational number\n",
    "        gcd = self.gcd(self.numerator, self.denominator)\n",
    "        simplified_numerator = self.numerator // gcd\n",
    "        simplified_denominator = self.denominator // gcd\n",
    "        print(f\"{simplified_numerator} / {simplified_denominator}\")\n",
    "\n",
    "    def gcd(self, a, b):\n",
    "        # Calculate the greatest common divisor using Euclidean algorithm\n",
    "        while b != 0:\n",
    "            a, b = b, a % b\n",
    "        return a\n",
    "print(\"Get input for the first rational number\") \n",
    "numerator1 = int(input()) \n",
    "denominator1 = int(input())\n",
    "\n",
    "print(\"Create the first rational number object\") \n",
    "rational1 = Rational(numerator1, denominator1)\n",
    "\n",
    "print(\"Get input for the second rational number\")\n",
    "numerator2 = int(input()) \n",
    "denominator2 = int(input())\n",
    "\n",
    "print(\"Create the second rational number object\") \n",
    "rational2 = Rational(numerator2, denominator2)\n",
    "\n",
    "print(\"Perform addition, subtraction, multiplication, and division\")\n",
    "result_add = rational1 + rational2 \n",
    "result_sub = rational1 - rational2 \n",
    "result_mul = rational1 * rational2 \n",
    "result_div = rational1 / rational2\n",
    "\n",
    "result_add.display()\n",
    "result_sub.display() \n",
    "result_mul.display() \n",
    "result_div.display()"
   ]
  },
  {
   "cell_type": "code",
   "execution_count": 12,
   "id": "c2a9f0dc",
   "metadata": {},
   "outputs": [],
   "source": [
    "S = 'I love Python'"
   ]
  },
  {
   "cell_type": "code",
   "execution_count": 14,
   "id": "8d5a9069",
   "metadata": {},
   "outputs": [
    {
     "data": {
      "text/plain": [
       "'love'"
      ]
     },
     "execution_count": 14,
     "metadata": {},
     "output_type": "execute_result"
    }
   ],
   "source": [
    "S[2:6]"
   ]
  },
  {
   "cell_type": "code",
   "execution_count": 16,
   "id": "d8bea728",
   "metadata": {},
   "outputs": [
    {
     "data": {
      "text/plain": [
       "'love'"
      ]
     },
     "execution_count": 16,
     "metadata": {},
     "output_type": "execute_result"
    }
   ],
   "source": [
    "S[-11:-7]"
   ]
  },
  {
   "cell_type": "code",
   "execution_count": 17,
   "id": "2107f86b",
   "metadata": {},
   "outputs": [
    {
     "name": "stdout",
     "output_type": "stream",
     "text": [
      "81\n"
     ]
    }
   ],
   "source": [
    "c= 3 * 3 ** 3\n",
    "print(c)"
   ]
  },
  {
   "cell_type": "code",
   "execution_count": 18,
   "id": "754b1b2f",
   "metadata": {},
   "outputs": [
    {
     "ename": "AttributeError",
     "evalue": "'tuple' object has no attribute 'append'",
     "output_type": "error",
     "traceback": [
      "\u001b[1;31m---------------------------------------------------------------------------\u001b[0m",
      "\u001b[1;31mAttributeError\u001b[0m                            Traceback (most recent call last)",
      "Input \u001b[1;32mIn [18]\u001b[0m, in \u001b[0;36m<cell line: 2>\u001b[1;34m()\u001b[0m\n\u001b[0;32m      1\u001b[0m T \u001b[38;5;241m=\u001b[39m (\u001b[38;5;241m3\u001b[39m, \u001b[38;5;241m5\u001b[39m, \u001b[38;5;241m7\u001b[39m, \u001b[38;5;241m11\u001b[39m)\n\u001b[1;32m----> 2\u001b[0m \u001b[43mT\u001b[49m\u001b[38;5;241;43m.\u001b[39;49m\u001b[43mappend\u001b[49m(\u001b[38;5;241m9\u001b[39m)\n\u001b[0;32m      3\u001b[0m \u001b[38;5;28mprint\u001b[39m(T)\n",
      "\u001b[1;31mAttributeError\u001b[0m: 'tuple' object has no attribute 'append'"
     ]
    }
   ],
   "source": [
    "T = (3, 5, 7, 11)\n",
    "T.append(9)\n",
    "print(T)"
   ]
  },
  {
   "cell_type": "code",
   "execution_count": 19,
   "id": "6d44d656",
   "metadata": {},
   "outputs": [
    {
     "name": "stdout",
     "output_type": "stream",
     "text": [
      "y\n"
     ]
    }
   ],
   "source": [
    "L1 = ['Vikas', 'Akshay', 'Sanskar', 'Mahima']\n",
    "print(L1[1][-1])"
   ]
  },
  {
   "cell_type": "code",
   "execution_count": 21,
   "id": "c27ce442",
   "metadata": {},
   "outputs": [
    {
     "name": "stdout",
     "output_type": "stream",
     "text": [
      "6\n",
      "[32, 34, 12, 27, 33, [14, 19]]\n"
     ]
    }
   ],
   "source": [
    "l = [32, 34, 12, 27, 33]\n",
    "l.append([14, 19])\n",
    "print(len(l))\n",
    "print(l)\n"
   ]
  },
  {
   "cell_type": "code",
   "execution_count": 22,
   "id": "6955bb89",
   "metadata": {},
   "outputs": [
    {
     "name": "stdout",
     "output_type": "stream",
     "text": [
      "7\n",
      "[32, 34, 12, 27, 33, 14, 19]\n"
     ]
    }
   ],
   "source": [
    "l = [32, 34, 12, 27, 33]\n",
    "l.extend([14, 19])\n",
    "print(len(l))\n",
    "print(l)"
   ]
  },
  {
   "cell_type": "code",
   "execution_count": 35,
   "id": "3231e89d",
   "metadata": {},
   "outputs": [
    {
     "name": "stdout",
     "output_type": "stream",
     "text": [
      "1\n",
      "2\n",
      "3\n"
     ]
    }
   ],
   "source": [
    "D = {1:['Raj', 22], 2:['Simran', 21], 3:['Rahul', 40]}\n",
    "for val in D:\n",
    "     print(val)"
   ]
  },
  {
   "cell_type": "code",
   "execution_count": 36,
   "id": "db852417",
   "metadata": {},
   "outputs": [
    {
     "ename": "NameError",
     "evalue": "name 'paragraph' is not defined",
     "output_type": "error",
     "traceback": [
      "\u001b[1;31m---------------------------------------------------------------------------\u001b[0m",
      "\u001b[1;31mNameError\u001b[0m                                 Traceback (most recent call last)",
      "Input \u001b[1;32mIn [36]\u001b[0m, in \u001b[0;36m<cell line: 1>\u001b[1;34m()\u001b[0m\n\u001b[1;32m----> 1\u001b[0m [word \u001b[38;5;28;01mfor\u001b[39;00m sentence \u001b[38;5;129;01min\u001b[39;00m \u001b[43mparagraph\u001b[49m \u001b[38;5;28;01mfor\u001b[39;00m word \u001b[38;5;129;01min\u001b[39;00m sentence\u001b[38;5;241m.\u001b[39msplit()]\n",
      "\u001b[1;31mNameError\u001b[0m: name 'paragraph' is not defined"
     ]
    }
   ],
   "source": [
    "[word for sentence in paragraph for word in sentence.split()]"
   ]
  },
  {
   "cell_type": "code",
   "execution_count": 37,
   "id": "9097518d",
   "metadata": {},
   "outputs": [
    {
     "ename": "NameError",
     "evalue": "name 'sentence' is not defined",
     "output_type": "error",
     "traceback": [
      "\u001b[1;31m---------------------------------------------------------------------------\u001b[0m",
      "\u001b[1;31mNameError\u001b[0m                                 Traceback (most recent call last)",
      "Input \u001b[1;32mIn [37]\u001b[0m, in \u001b[0;36m<cell line: 1>\u001b[1;34m()\u001b[0m\n\u001b[1;32m----> 1\u001b[0m [word \u001b[38;5;28;01mfor\u001b[39;00m word \u001b[38;5;129;01min\u001b[39;00m \u001b[43msentence\u001b[49m\u001b[38;5;241m.\u001b[39msplit() \u001b[38;5;28;01mfor\u001b[39;00m sentence \u001b[38;5;129;01min\u001b[39;00m paragraph]\n",
      "\u001b[1;31mNameError\u001b[0m: name 'sentence' is not defined"
     ]
    }
   ],
   "source": [
    "[word for word in sentence.split() for sentence in paragraph]"
   ]
  },
  {
   "cell_type": "code",
   "execution_count": 38,
   "id": "7a740f4d",
   "metadata": {},
   "outputs": [
    {
     "name": "stdout",
     "output_type": "stream",
     "text": [
      "[10, 9, 8, 7, 6, 5, 4, 3, 2]\n"
     ]
    }
   ],
   "source": [
    "print(list(range(10, 1, -1)))"
   ]
  },
  {
   "cell_type": "code",
   "execution_count": null,
   "id": "eaf54767",
   "metadata": {},
   "outputs": [],
   "source": []
  }
 ],
 "metadata": {
  "kernelspec": {
   "display_name": "Python 3 (ipykernel)",
   "language": "python",
   "name": "python3"
  },
  "language_info": {
   "codemirror_mode": {
    "name": "ipython",
    "version": 3
   },
   "file_extension": ".py",
   "mimetype": "text/x-python",
   "name": "python",
   "nbconvert_exporter": "python",
   "pygments_lexer": "ipython3",
   "version": "3.9.12"
  }
 },
 "nbformat": 4,
 "nbformat_minor": 5
}
