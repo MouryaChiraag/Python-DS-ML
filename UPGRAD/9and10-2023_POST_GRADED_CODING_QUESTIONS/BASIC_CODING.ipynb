{
 "cells": [
  {
   "cell_type": "code",
   "execution_count": 2,
   "id": "8f45e0b8",
   "metadata": {},
   "outputs": [
    {
     "name": "stdout",
     "output_type": "stream",
     "text": [
      "Enter a number: 20\n",
      "Enter a number: 30\n",
      "30\n",
      "20\n"
     ]
    }
   ],
   "source": [
    "#Swapping\n",
    "x=int(input(\"Enter a number: \"))\n",
    "y=int(input(\"Enter a number: \"))\n",
    "x,y=y,x\n",
    "print(x)\n",
    "print(y)\n"
   ]
  },
  {
   "cell_type": "code",
   "execution_count": 3,
   "id": "5b8dd8d8",
   "metadata": {},
   "outputs": [
    {
     "name": "stdout",
     "output_type": "stream",
     "text": [
      "Enter a number: 20\n",
      "Enter a number: 30\n",
      "30 20\n"
     ]
    }
   ],
   "source": [
    "x=int(input(\"Enter a number: \"))\n",
    "y=int(input(\"Enter a number: \"))\n",
    "temp=x\n",
    "x=y\n",
    "y=temp\n",
    "print(x, y)"
   ]
  },
  {
   "cell_type": "code",
   "execution_count": 4,
   "id": "f6930772",
   "metadata": {
    "scrolled": true
   },
   "outputs": [
    {
     "name": "stdout",
     "output_type": "stream",
     "text": [
      "x before swapping: 12\n",
      "y before swapping: 15\n",
      "\n",
      "\n",
      "x after swapping:  15\n",
      "y after swapping:  12\n"
     ]
    }
   ],
   "source": [
    "x = input((\"x before swapping: \"))\n",
    "y = input((\"y before swapping: \"))\n",
    "\n",
    "x,y = y,x\n",
    "print(\"\\n\")\n",
    "print(\"x after swapping: \",x)\n",
    "print(\"y after swapping: \",y)\n"
   ]
  },
  {
   "cell_type": "code",
   "execution_count": 1,
   "id": "bca60de9",
   "metadata": {},
   "outputs": [
    {
     "ename": "SyntaxError",
     "evalue": "invalid syntax (3292742531.py, line 2)",
     "output_type": "error",
     "traceback": [
      "\u001b[1;36m  Input \u001b[1;32mIn [1]\u001b[1;36m\u001b[0m\n\u001b[1;33m    3n=3*7 -- sexy\u001b[0m\n\u001b[1;37m     ^\u001b[0m\n\u001b[1;31mSyntaxError\u001b[0m\u001b[1;31m:\u001b[0m invalid syntax\n"
     ]
    }
   ],
   "source": [
    "inp=22\n",
    "3n=3*7 -- sexy\n",
    "3n+1=3*7+1 --- beautiful\n",
    "3n+2=3*7+2"
   ]
  },
  {
   "cell_type": "code",
   "execution_count": 2,
   "id": "53ee3c3d",
   "metadata": {},
   "outputs": [
    {
     "data": {
      "text/plain": [
       "[1, 2, 3, 4]"
      ]
     },
     "execution_count": 2,
     "metadata": {},
     "output_type": "execute_result"
    }
   ],
   "source": [
    "L = [1, 2, 3, 4]\n",
    "L"
   ]
  },
  {
   "cell_type": "code",
   "execution_count": 3,
   "id": "2ce4c72a",
   "metadata": {},
   "outputs": [
    {
     "data": {
      "text/plain": [
       "[1, 2, 3, 4]"
      ]
     },
     "execution_count": 3,
     "metadata": {},
     "output_type": "execute_result"
    }
   ],
   "source": [
    "L1 = [i for i in range(1, 5)]\n",
    "L1"
   ]
  },
  {
   "cell_type": "code",
   "execution_count": 4,
   "id": "db21f18c",
   "metadata": {},
   "outputs": [
    {
     "ename": "SyntaxError",
     "evalue": "invalid syntax (3940980400.py, line 1)",
     "output_type": "error",
     "traceback": [
      "\u001b[1;36m  Input \u001b[1;32mIn [4]\u001b[1;36m\u001b[0m\n\u001b[1;33m    L2 = [for i in range(1, 5) i]\u001b[0m\n\u001b[1;37m          ^\u001b[0m\n\u001b[1;31mSyntaxError\u001b[0m\u001b[1;31m:\u001b[0m invalid syntax\n"
     ]
    }
   ],
   "source": [
    "L2 = [for i in range(1, 5) i]\n",
    "L2"
   ]
  },
  {
   "cell_type": "code",
   "execution_count": 5,
   "id": "1656af40",
   "metadata": {},
   "outputs": [
    {
     "ename": "SyntaxError",
     "evalue": "invalid syntax (193036377.py, line 1)",
     "output_type": "error",
     "traceback": [
      "\u001b[1;36m  Input \u001b[1;32mIn [5]\u001b[1;36m\u001b[0m\n\u001b[1;33m    L3 = [for i in range(1, 5): i]\u001b[0m\n\u001b[1;37m          ^\u001b[0m\n\u001b[1;31mSyntaxError\u001b[0m\u001b[1;31m:\u001b[0m invalid syntax\n"
     ]
    }
   ],
   "source": [
    "L3 = [for i in range(1, 5): i]\n",
    "L3"
   ]
  },
  {
   "cell_type": "code",
   "execution_count": 6,
   "id": "f549bff8",
   "metadata": {},
   "outputs": [
    {
     "name": "stdout",
     "output_type": "stream",
     "text": [
      "0\n"
     ]
    }
   ],
   "source": [
    "L=[2, 3, 4, 2, 1, 2, 3]\n",
    "print(L.index(2))"
   ]
  },
  {
   "cell_type": "code",
   "execution_count": 7,
   "id": "221d40a3",
   "metadata": {},
   "outputs": [],
   "source": [
    " L=[10,20,30,40,50,60,70,80,90,100]"
   ]
  },
  {
   "cell_type": "code",
   "execution_count": 8,
   "id": "9a4b75a9",
   "metadata": {},
   "outputs": [
    {
     "data": {
      "text/plain": [
       "[10, 20, 30, 40, 50, 60, 70, 80, 90, 100]"
      ]
     },
     "execution_count": 8,
     "metadata": {},
     "output_type": "execute_result"
    }
   ],
   "source": [
    "L"
   ]
  },
  {
   "cell_type": "code",
   "execution_count": 9,
   "id": "5b483d40",
   "metadata": {},
   "outputs": [
    {
     "ename": "TypeError",
     "evalue": "list indices must be integers or slices, not list",
     "output_type": "error",
     "traceback": [
      "\u001b[1;31m---------------------------------------------------------------------------\u001b[0m",
      "\u001b[1;31mTypeError\u001b[0m                                 Traceback (most recent call last)",
      "Input \u001b[1;32mIn [9]\u001b[0m, in \u001b[0;36m<cell line: 1>\u001b[1;34m()\u001b[0m\n\u001b[1;32m----> 1\u001b[0m \u001b[43mL\u001b[49m\u001b[43m[\u001b[49m\u001b[43m[\u001b[49m\u001b[38;5;241;43m1\u001b[39;49m\u001b[43m,\u001b[49m\u001b[43m \u001b[49m\u001b[38;5;241;43m3\u001b[39;49m\u001b[43m,\u001b[49m\u001b[43m \u001b[49m\u001b[38;5;241;43m5\u001b[39;49m\u001b[43m,\u001b[49m\u001b[43m \u001b[49m\u001b[38;5;241;43m7\u001b[39;49m\u001b[43m]\u001b[49m\u001b[43m]\u001b[49m\n",
      "\u001b[1;31mTypeError\u001b[0m: list indices must be integers or slices, not list"
     ]
    }
   ],
   "source": [
    "\n",
    "L[[1, 3, 5, 7]]"
   ]
  },
  {
   "cell_type": "code",
   "execution_count": 10,
   "id": "08b49e95",
   "metadata": {},
   "outputs": [
    {
     "ename": "TypeError",
     "evalue": "list indices must be integers or slices, not tuple",
     "output_type": "error",
     "traceback": [
      "\u001b[1;31m---------------------------------------------------------------------------\u001b[0m",
      "\u001b[1;31mTypeError\u001b[0m                                 Traceback (most recent call last)",
      "Input \u001b[1;32mIn [10]\u001b[0m, in \u001b[0;36m<cell line: 1>\u001b[1;34m()\u001b[0m\n\u001b[1;32m----> 1\u001b[0m \u001b[43mL\u001b[49m\u001b[43m[\u001b[49m\u001b[38;5;241;43m1\u001b[39;49m\u001b[43m,\u001b[49m\u001b[43m \u001b[49m\u001b[38;5;241;43m3\u001b[39;49m\u001b[43m,\u001b[49m\u001b[43m \u001b[49m\u001b[38;5;241;43m5\u001b[39;49m\u001b[43m,\u001b[49m\u001b[43m \u001b[49m\u001b[38;5;241;43m7\u001b[39;49m\u001b[43m]\u001b[49m\n",
      "\u001b[1;31mTypeError\u001b[0m: list indices must be integers or slices, not tuple"
     ]
    }
   ],
   "source": [
    "L[1, 3, 5, 7]\n",
    "\n"
   ]
  },
  {
   "cell_type": "code",
   "execution_count": 11,
   "id": "fbf31945",
   "metadata": {},
   "outputs": [
    {
     "data": {
      "text/plain": [
       "[20, 40, 60, 80, 100]"
      ]
     },
     "execution_count": 11,
     "metadata": {},
     "output_type": "execute_result"
    }
   ],
   "source": [
    "L[1::2]"
   ]
  },
  {
   "cell_type": "code",
   "execution_count": 13,
   "id": "b4ecef2b",
   "metadata": {},
   "outputs": [
    {
     "data": {
      "text/plain": [
       "[20, 40, 60, 80]"
      ]
     },
     "execution_count": 13,
     "metadata": {},
     "output_type": "execute_result"
    }
   ],
   "source": [
    "\n",
    "L[1:-1:2]"
   ]
  },
  {
   "cell_type": "code",
   "execution_count": 14,
   "id": "dd2f229c",
   "metadata": {},
   "outputs": [
    {
     "data": {
      "text/plain": [
       "[30, 50, 70, 90]"
      ]
     },
     "execution_count": 14,
     "metadata": {},
     "output_type": "execute_result"
    }
   ],
   "source": [
    "L[2:-1:2]"
   ]
  },
  {
   "cell_type": "code",
   "execution_count": 16,
   "id": "7e0387a1",
   "metadata": {},
   "outputs": [
    {
     "data": {
      "text/plain": [
       "[30, 50, 70, 90]"
      ]
     },
     "execution_count": 16,
     "metadata": {},
     "output_type": "execute_result"
    }
   ],
   "source": [
    "L[2:-1:2]"
   ]
  },
  {
   "cell_type": "code",
   "execution_count": 17,
   "id": "da417e41",
   "metadata": {},
   "outputs": [
    {
     "data": {
      "text/plain": [
       "[20, 40, 60, 80]"
      ]
     },
     "execution_count": 17,
     "metadata": {},
     "output_type": "execute_result"
    }
   ],
   "source": [
    "\n",
    "[L[i] for i in range(1,9,2)]"
   ]
  },
  {
   "cell_type": "code",
   "execution_count": 21,
   "id": "d1351f75",
   "metadata": {},
   "outputs": [
    {
     "name": "stdout",
     "output_type": "stream",
     "text": [
      "False\n"
     ]
    }
   ],
   "source": [
    "input_list=[ [2,4,6,8,10],  4]\n",
    "\n",
    "#Remember how we took input in the Alarm clock Question in previous Session?\n",
    "#Lets see if you can finish taking input on your own\n",
    "\n",
    "data=input_list[0]\n",
    "check=input_list[1]\n",
    "\n",
    "#start writing your code to find if check is above average of data \n",
    "\n",
    "s=0\n",
    "for item in data:\n",
    "    s=s+item\n",
    "avg=s/len(data)\n",
    "if check>avg:\n",
    "    print(True)\n",
    "else:\n",
    "    print(False)"
   ]
  },
  {
   "cell_type": "code",
   "execution_count": 27,
   "id": "385b427e",
   "metadata": {},
   "outputs": [
    {
     "name": "stdout",
     "output_type": "stream",
     "text": [
      "[10, 20, 30, 40, 50, 60, 80]\n"
     ]
    }
   ],
   "source": [
    "list1=[10,20,30,40,50]\n",
    "list2=[30,60,80,40]\n",
    "s=sum(list1)\n",
    "cur_list=[]\n",
    "avg=s/len(list1)\n",
    "for i in list2:\n",
    "    list1.append(i)\n",
    "    cur_list=list1\n",
    "    cur_avg=sum(cur_list)/len(cur_list)\n",
    "    if cur_avg>avg:\n",
    "        avg=cur_avg\n",
    "    else:\n",
    "        cur_list.pop()\n",
    "print(cur_list)"
   ]
  },
  {
   "cell_type": "code",
   "execution_count": 1,
   "id": "dfdaf962",
   "metadata": {},
   "outputs": [
    {
     "name": "stdout",
     "output_type": "stream",
     "text": [
      "2\n"
     ]
    }
   ],
   "source": [
    "input_list=[ [29,31], [23,26], [24,25] ]\n",
    "wedding_date=24\n",
    "count=0\n",
    "for i in input_list:\n",
    "    for j in range(i[0],i[1]+1):\n",
    "        if wedding_date == j:\n",
    "            count=count+1\n",
    "            \n",
    "print(count)"
   ]
  },
  {
   "cell_type": "code",
   "execution_count": 4,
   "id": "8a851da6",
   "metadata": {},
   "outputs": [
    {
     "name": "stdout",
     "output_type": "stream",
     "text": [
      "1111100000000000000000000\n"
     ]
    }
   ],
   "source": [
    "\n",
    "for i in range(1,6):\n",
    "    for j in range(1,6):\n",
    "        if (i==1 or i==5-1 and j==1 and j==5-1):\n",
    "            print(\"1\",end='')\n",
    "        else:\n",
    "            print(\"0\",end='')\n",
    "print()"
   ]
  },
  {
   "cell_type": "code",
   "execution_count": null,
   "id": "57fcfcfc",
   "metadata": {},
   "outputs": [],
   "source": []
  }
 ],
 "metadata": {
  "kernelspec": {
   "display_name": "Python 3 (ipykernel)",
   "language": "python",
   "name": "python3"
  },
  "language_info": {
   "codemirror_mode": {
    "name": "ipython",
    "version": 3
   },
   "file_extension": ".py",
   "mimetype": "text/x-python",
   "name": "python",
   "nbconvert_exporter": "python",
   "pygments_lexer": "ipython3",
   "version": "3.9.12"
  }
 },
 "nbformat": 4,
 "nbformat_minor": 5
}
