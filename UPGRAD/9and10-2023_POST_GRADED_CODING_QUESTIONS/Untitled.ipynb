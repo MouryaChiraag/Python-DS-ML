{
 "cells": [
  {
   "cell_type": "code",
   "execution_count": 1,
   "id": "f29b4537",
   "metadata": {},
   "outputs": [
    {
     "ename": "NameError",
     "evalue": "name 'upgrad' is not defined",
     "output_type": "error",
     "traceback": [
      "\u001b[1;31m---------------------------------------------------------------------------\u001b[0m",
      "\u001b[1;31mNameError\u001b[0m                                 Traceback (most recent call last)",
      "Input \u001b[1;32mIn [1]\u001b[0m, in \u001b[0;36m<cell line: 1>\u001b[1;34m()\u001b[0m\n\u001b[1;32m----> 1\u001b[0m s \u001b[38;5;241m=\u001b[39m \u001b[43mupgrad\u001b[49m\n\u001b[0;32m      3\u001b[0m s \u001b[38;5;241m=\u001b[39m s[:\u001b[38;5;241m2\u001b[39m] \u001b[38;5;241m+\u001b[39m s[\u001b[38;5;241m2\u001b[39m]\u001b[38;5;241m.\u001b[39mupper() \u001b[38;5;241m+\u001b[39m s[\u001b[38;5;241m3\u001b[39m:]\n",
      "\u001b[1;31mNameError\u001b[0m: name 'upgrad' is not defined"
     ]
    }
   ],
   "source": [
    "s = upgrad\n",
    "\n",
    "s = s[:2] + s[2].upper() + s[3:]"
   ]
  },
  {
   "cell_type": "code",
   "execution_count": 2,
   "id": "0080a912",
   "metadata": {},
   "outputs": [
    {
     "ename": "NameError",
     "evalue": "name 'upGrad' is not defined",
     "output_type": "error",
     "traceback": [
      "\u001b[1;31m---------------------------------------------------------------------------\u001b[0m",
      "\u001b[1;31mNameError\u001b[0m                                 Traceback (most recent call last)",
      "Input \u001b[1;32mIn [2]\u001b[0m, in \u001b[0;36m<cell line: 1>\u001b[1;34m()\u001b[0m\n\u001b[1;32m----> 1\u001b[0m s \u001b[38;5;241m=\u001b[39m \u001b[43mupGrad\u001b[49m\n",
      "\u001b[1;31mNameError\u001b[0m: name 'upGrad' is not defined"
     ]
    }
   ],
   "source": [
    "s = upGrad"
   ]
  },
  {
   "cell_type": "code",
   "execution_count": 3,
   "id": "82810d2f",
   "metadata": {},
   "outputs": [
    {
     "data": {
      "text/plain": [
       "'upGrad'"
      ]
     },
     "execution_count": 3,
     "metadata": {},
     "output_type": "execute_result"
    }
   ],
   "source": [
    "'G'.join(['up','rad'])"
   ]
  },
  {
   "cell_type": "code",
   "execution_count": 4,
   "id": "79068fd5",
   "metadata": {},
   "outputs": [
    {
     "data": {
      "text/plain": [
       "'upGrad'"
      ]
     },
     "execution_count": 4,
     "metadata": {},
     "output_type": "execute_result"
    }
   ],
   "source": [
    "s='aabupGradaab'\n",
    "s.strip('aab')"
   ]
  },
  {
   "cell_type": "code",
   "execution_count": 5,
   "id": "372a23c4",
   "metadata": {},
   "outputs": [
    {
     "data": {
      "text/plain": [
       "'upGrad'"
      ]
     },
     "execution_count": 5,
     "metadata": {},
     "output_type": "execute_result"
    }
   ],
   "source": [
    "s=s='aabupGradaab'\n",
    "s.strip('a').strip('b').strip('a')"
   ]
  },
  {
   "cell_type": "code",
   "execution_count": 1,
   "id": "0a4dd47c",
   "metadata": {},
   "outputs": [
    {
     "ename": "NameError",
     "evalue": "name 'A' is not defined",
     "output_type": "error",
     "traceback": [
      "\u001b[1;31m---------------------------------------------------------------------------\u001b[0m",
      "\u001b[1;31mNameError\u001b[0m                                 Traceback (most recent call last)",
      "Input \u001b[1;32mIn [1]\u001b[0m, in \u001b[0;36m<cell line: 1>\u001b[1;34m()\u001b[0m\n\u001b[1;32m----> 1\u001b[0m \u001b[38;5;28mset\u001b[39m\u001b[38;5;241m.\u001b[39mintersection(\u001b[43mA\u001b[49m, B, C)\n",
      "\u001b[1;31mNameError\u001b[0m: name 'A' is not defined"
     ]
    }
   ],
   "source": [
    "set.intersection(A, B, C)"
   ]
  },
  {
   "cell_type": "code",
   "execution_count": 2,
   "id": "40e8f85b",
   "metadata": {},
   "outputs": [
    {
     "ename": "NameError",
     "evalue": "name 'A' is not defined",
     "output_type": "error",
     "traceback": [
      "\u001b[1;31m---------------------------------------------------------------------------\u001b[0m",
      "\u001b[1;31mNameError\u001b[0m                                 Traceback (most recent call last)",
      "Input \u001b[1;32mIn [2]\u001b[0m, in \u001b[0;36m<cell line: 1>\u001b[1;34m()\u001b[0m\n\u001b[1;32m----> 1\u001b[0m \u001b[43mA\u001b[49m\u001b[38;5;241m.\u001b[39mintersection(B, C)\n",
      "\u001b[1;31mNameError\u001b[0m: name 'A' is not defined"
     ]
    }
   ],
   "source": [
    "A.intersection(B, C)"
   ]
  },
  {
   "cell_type": "code",
   "execution_count": 3,
   "id": "37133b72",
   "metadata": {},
   "outputs": [
    {
     "ename": "NameError",
     "evalue": "name 'A' is not defined",
     "output_type": "error",
     "traceback": [
      "\u001b[1;31m---------------------------------------------------------------------------\u001b[0m",
      "\u001b[1;31mNameError\u001b[0m                                 Traceback (most recent call last)",
      "Input \u001b[1;32mIn [3]\u001b[0m, in \u001b[0;36m<cell line: 1>\u001b[1;34m()\u001b[0m\n\u001b[1;32m----> 1\u001b[0m \u001b[43mA\u001b[49m\u001b[38;5;241m.\u001b[39mintersection([B, C])\n",
      "\u001b[1;31mNameError\u001b[0m: name 'A' is not defined"
     ]
    }
   ],
   "source": [
    "A.intersection([B, C])"
   ]
  },
  {
   "cell_type": "code",
   "execution_count": 4,
   "id": "d59df6cd",
   "metadata": {},
   "outputs": [
    {
     "ename": "NameError",
     "evalue": "name 'A' is not defined",
     "output_type": "error",
     "traceback": [
      "\u001b[1;31m---------------------------------------------------------------------------\u001b[0m",
      "\u001b[1;31mNameError\u001b[0m                                 Traceback (most recent call last)",
      "Input \u001b[1;32mIn [4]\u001b[0m, in \u001b[0;36m<cell line: 1>\u001b[1;34m()\u001b[0m\n\u001b[1;32m----> 1\u001b[0m \u001b[38;5;28mset\u001b[39m\u001b[38;5;241m.\u001b[39mintersection([\u001b[43mA\u001b[49m, B, C])\n",
      "\u001b[1;31mNameError\u001b[0m: name 'A' is not defined"
     ]
    }
   ],
   "source": [
    "set.intersection([A, B, C])"
   ]
  },
  {
   "cell_type": "code",
   "execution_count": 6,
   "id": "391027be",
   "metadata": {},
   "outputs": [],
   "source": [
    "A={5,2,3}\n",
    "B={3,4,5}\n",
    "C={3,6,5}"
   ]
  },
  {
   "cell_type": "code",
   "execution_count": 7,
   "id": "005bffe6",
   "metadata": {},
   "outputs": [
    {
     "data": {
      "text/plain": [
       "{3, 5}"
      ]
     },
     "execution_count": 7,
     "metadata": {},
     "output_type": "execute_result"
    }
   ],
   "source": [
    "set.intersection(A, B, C)"
   ]
  },
  {
   "cell_type": "code",
   "execution_count": 8,
   "id": "829e27ae",
   "metadata": {},
   "outputs": [
    {
     "data": {
      "text/plain": [
       "{3, 5}"
      ]
     },
     "execution_count": 8,
     "metadata": {},
     "output_type": "execute_result"
    }
   ],
   "source": [
    "A.intersection(B, C)"
   ]
  },
  {
   "cell_type": "code",
   "execution_count": 9,
   "id": "9a547e69",
   "metadata": {},
   "outputs": [
    {
     "ename": "TypeError",
     "evalue": "unhashable type: 'set'",
     "output_type": "error",
     "traceback": [
      "\u001b[1;31m---------------------------------------------------------------------------\u001b[0m",
      "\u001b[1;31mTypeError\u001b[0m                                 Traceback (most recent call last)",
      "Input \u001b[1;32mIn [9]\u001b[0m, in \u001b[0;36m<cell line: 1>\u001b[1;34m()\u001b[0m\n\u001b[1;32m----> 1\u001b[0m \u001b[43mA\u001b[49m\u001b[38;5;241;43m.\u001b[39;49m\u001b[43mintersection\u001b[49m\u001b[43m(\u001b[49m\u001b[43m[\u001b[49m\u001b[43mB\u001b[49m\u001b[43m,\u001b[49m\u001b[43m \u001b[49m\u001b[43mC\u001b[49m\u001b[43m]\u001b[49m\u001b[43m)\u001b[49m\n",
      "\u001b[1;31mTypeError\u001b[0m: unhashable type: 'set'"
     ]
    }
   ],
   "source": [
    "A.intersection([B, C])"
   ]
  },
  {
   "cell_type": "code",
   "execution_count": 10,
   "id": "04930f10",
   "metadata": {},
   "outputs": [
    {
     "ename": "TypeError",
     "evalue": "descriptor 'intersection' for 'set' objects doesn't apply to a 'list' object",
     "output_type": "error",
     "traceback": [
      "\u001b[1;31m---------------------------------------------------------------------------\u001b[0m",
      "\u001b[1;31mTypeError\u001b[0m                                 Traceback (most recent call last)",
      "Input \u001b[1;32mIn [10]\u001b[0m, in \u001b[0;36m<cell line: 1>\u001b[1;34m()\u001b[0m\n\u001b[1;32m----> 1\u001b[0m \u001b[38;5;28;43mset\u001b[39;49m\u001b[38;5;241;43m.\u001b[39;49m\u001b[43mintersection\u001b[49m\u001b[43m(\u001b[49m\u001b[43m[\u001b[49m\u001b[43mA\u001b[49m\u001b[43m,\u001b[49m\u001b[43m \u001b[49m\u001b[43mB\u001b[49m\u001b[43m,\u001b[49m\u001b[43m \u001b[49m\u001b[43mC\u001b[49m\u001b[43m]\u001b[49m\u001b[43m)\u001b[49m\n",
      "\u001b[1;31mTypeError\u001b[0m: descriptor 'intersection' for 'set' objects doesn't apply to a 'list' object"
     ]
    }
   ],
   "source": [
    "set.intersection([A, B, C])"
   ]
  },
  {
   "cell_type": "code",
   "execution_count": 11,
   "id": "d481f7c9",
   "metadata": {},
   "outputs": [],
   "source": [
    "\n",
    "d = {}"
   ]
  },
  {
   "cell_type": "code",
   "execution_count": 12,
   "id": "17744bc0",
   "metadata": {},
   "outputs": [
    {
     "data": {
      "text/plain": [
       "dict"
      ]
     },
     "execution_count": 12,
     "metadata": {},
     "output_type": "execute_result"
    }
   ],
   "source": [
    "type(d)"
   ]
  },
  {
   "cell_type": "code",
   "execution_count": 14,
   "id": "de77949f",
   "metadata": {},
   "outputs": [],
   "source": [
    "d1={'a':1, 'b':2}"
   ]
  },
  {
   "cell_type": "code",
   "execution_count": 15,
   "id": "eb864ab2",
   "metadata": {},
   "outputs": [
    {
     "data": {
      "text/plain": [
       "dict"
      ]
     },
     "execution_count": 15,
     "metadata": {},
     "output_type": "execute_result"
    }
   ],
   "source": [
    "type(d1)"
   ]
  },
  {
   "cell_type": "code",
   "execution_count": 16,
   "id": "906dea3a",
   "metadata": {},
   "outputs": [
    {
     "ename": "SyntaxError",
     "evalue": "invalid syntax (3525648346.py, line 1)",
     "output_type": "error",
     "traceback": [
      "\u001b[1;36m  Input \u001b[1;32mIn [16]\u001b[1;36m\u001b[0m\n\u001b[1;33m    d={'a'=1, 'b'=2}\u001b[0m\n\u001b[1;37m          ^\u001b[0m\n\u001b[1;31mSyntaxError\u001b[0m\u001b[1;31m:\u001b[0m invalid syntax\n"
     ]
    }
   ],
   "source": [
    "d={'a'=1, 'b'=2}"
   ]
  },
  {
   "cell_type": "code",
   "execution_count": 18,
   "id": "b961e572",
   "metadata": {},
   "outputs": [],
   "source": [
    "d2=dict(a=1, b=2)"
   ]
  },
  {
   "cell_type": "code",
   "execution_count": 19,
   "id": "c50c201a",
   "metadata": {},
   "outputs": [
    {
     "data": {
      "text/plain": [
       "dict"
      ]
     },
     "execution_count": 19,
     "metadata": {},
     "output_type": "execute_result"
    }
   ],
   "source": [
    "type(d2)"
   ]
  },
  {
   "cell_type": "code",
   "execution_count": 20,
   "id": "953e2bac",
   "metadata": {},
   "outputs": [
    {
     "ename": "SyntaxError",
     "evalue": "invalid syntax (461443162.py, line 1)",
     "output_type": "error",
     "traceback": [
      "\u001b[1;36m  Input \u001b[1;32mIn [20]\u001b[1;36m\u001b[0m\n\u001b[1;33m    d3 = ('a':1, 'b':2)\u001b[0m\n\u001b[1;37m             ^\u001b[0m\n\u001b[1;31mSyntaxError\u001b[0m\u001b[1;31m:\u001b[0m invalid syntax\n"
     ]
    }
   ],
   "source": [
    "d3 = ('a':1, 'b':2)"
   ]
  },
  {
   "cell_type": "code",
   "execution_count": 21,
   "id": "87a992ea",
   "metadata": {},
   "outputs": [
    {
     "ename": "KeyError",
     "evalue": "'e'",
     "output_type": "error",
     "traceback": [
      "\u001b[1;31m---------------------------------------------------------------------------\u001b[0m",
      "\u001b[1;31mKeyError\u001b[0m                                  Traceback (most recent call last)",
      "Input \u001b[1;32mIn [21]\u001b[0m, in \u001b[0;36m<cell line: 2>\u001b[1;34m()\u001b[0m\n\u001b[0;32m      1\u001b[0m d\u001b[38;5;241m=\u001b[39m{\u001b[38;5;124m'\u001b[39m\u001b[38;5;124ma\u001b[39m\u001b[38;5;124m'\u001b[39m:\u001b[38;5;241m64\u001b[39m, \u001b[38;5;124m'\u001b[39m\u001b[38;5;124mb\u001b[39m\u001b[38;5;124m'\u001b[39m:\u001b[38;5;241m65\u001b[39m, \u001b[38;5;124m'\u001b[39m\u001b[38;5;124mc\u001b[39m\u001b[38;5;124m'\u001b[39m:\u001b[38;5;241m66\u001b[39m, \u001b[38;5;124m'\u001b[39m\u001b[38;5;124md\u001b[39m\u001b[38;5;124m'\u001b[39m:\u001b[38;5;241m67\u001b[39m}\n\u001b[1;32m----> 2\u001b[0m \u001b[38;5;28mprint\u001b[39m(\u001b[43md\u001b[49m\u001b[43m[\u001b[49m\u001b[38;5;124;43m'\u001b[39;49m\u001b[38;5;124;43me\u001b[39;49m\u001b[38;5;124;43m'\u001b[39;49m\u001b[43m]\u001b[49m)\n",
      "\u001b[1;31mKeyError\u001b[0m: 'e'"
     ]
    }
   ],
   "source": [
    "d={'a':64, 'b':65, 'c':66, 'd':67}\n",
    "print(d['e'])"
   ]
  },
  {
   "cell_type": "code",
   "execution_count": 22,
   "id": "58a258d9",
   "metadata": {},
   "outputs": [
    {
     "name": "stdout",
     "output_type": "stream",
     "text": [
      "dict_keys(['a', 'b', 'c', 'd'])\n"
     ]
    }
   ],
   "source": [
    "d={'a':64, 'b':65, 'c':66, 'd':67}\n",
    "print(d.keys())"
   ]
  },
  {
   "cell_type": "code",
   "execution_count": 23,
   "id": "f3104048",
   "metadata": {},
   "outputs": [
    {
     "name": "stdout",
     "output_type": "stream",
     "text": [
      "dict_keys(['a', 'b', 'c', 'd'])\n"
     ]
    }
   ],
   "source": [
    "d={'a':64, 'b':65, 'c':66, 'd':67}\n",
    "print(d.keys())"
   ]
  },
  {
   "cell_type": "code",
   "execution_count": 26,
   "id": "d59faef5",
   "metadata": {},
   "outputs": [
    {
     "name": "stdout",
     "output_type": "stream",
     "text": [
      "2\n",
      "4\n"
     ]
    },
    {
     "ename": "NameError",
     "evalue": "name 'minimum' is not defined",
     "output_type": "error",
     "traceback": [
      "\u001b[1;31m---------------------------------------------------------------------------\u001b[0m",
      "\u001b[1;31mNameError\u001b[0m                                 Traceback (most recent call last)",
      "Input \u001b[1;32mIn [26]\u001b[0m, in \u001b[0;36m<cell line: 3>\u001b[1;34m()\u001b[0m\n\u001b[0;32m      1\u001b[0m num1 \u001b[38;5;241m=\u001b[39m \u001b[38;5;28mint\u001b[39m(\u001b[38;5;28minput\u001b[39m())\n\u001b[0;32m      2\u001b[0m num2 \u001b[38;5;241m=\u001b[39m \u001b[38;5;28mint\u001b[39m(\u001b[38;5;28minput\u001b[39m())\n\u001b[1;32m----> 3\u001b[0m min_num\u001b[38;5;241m=\u001b[39m\u001b[43mminimum\u001b[49m(num1,num2)\n\u001b[0;32m      4\u001b[0m \u001b[38;5;28mprint\u001b[39m(min_num)\n",
      "\u001b[1;31mNameError\u001b[0m: name 'minimum' is not defined"
     ]
    }
   ],
   "source": [
    "num1 = int(input())\n",
    "num2 = int(input())\n",
    "min_num=minimum(num1,num2)\n",
    "print(min_num)a="
   ]
  },
  {
   "cell_type": "code",
   "execution_count": 27,
   "id": "25034679",
   "metadata": {},
   "outputs": [
    {
     "data": {
      "text/plain": [
       "2"
      ]
     },
     "execution_count": 27,
     "metadata": {},
     "output_type": "execute_result"
    }
   ],
   "source": [
    "num1=2\n",
    "num2=3\n",
    "min(num1,num2)"
   ]
  },
  {
   "cell_type": "code",
   "execution_count": 29,
   "id": "b5bfc2b8",
   "metadata": {},
   "outputs": [
    {
     "ename": "SyntaxError",
     "evalue": "invalid syntax (2992821698.py, line 2)",
     "output_type": "error",
     "traceback": [
      "\u001b[1;36m  Input \u001b[1;32mIn [29]\u001b[1;36m\u001b[0m\n\u001b[1;33m    return minimum=min(num1,num2)\u001b[0m\n\u001b[1;37m                  ^\u001b[0m\n\u001b[1;31mSyntaxError\u001b[0m\u001b[1;31m:\u001b[0m invalid syntax\n"
     ]
    }
   ],
   "source": [
    "def __init__ (self):\n",
    "    return minimum=min(num1,num2)\n",
    "num1 = int(input())\n",
    "num2 = int(input())\n",
    "min_num=minimum(num1,num2)\n",
    "print(min_num)"
   ]
  },
  {
   "cell_type": "code",
   "execution_count": null,
   "id": "77217054",
   "metadata": {},
   "outputs": [],
   "source": [
    "a=input()\n",
    "# Enter your code here.\n",
    "print(new_a)"
   ]
  },
  {
   "cell_type": "code",
   "execution_count": 1,
   "id": "4c9bfb5d",
   "metadata": {},
   "outputs": [
    {
     "name": "stdout",
     "output_type": "stream",
     "text": [
      "Enter a string: Python\n",
      "String with '&' inserted between characters: P&y&t&h&o&n\n"
     ]
    }
   ],
   "source": [
    "a = input(\"Enter a string: \")\n",
    "new_a = '&'.join(a)\n",
    "\n",
    "print(\"String with '&' inserted between characters:\", new_a)\n"
   ]
  },
  {
   "cell_type": "code",
   "execution_count": 4,
   "id": "6a20b6eb",
   "metadata": {},
   "outputs": [],
   "source": [
    "l1=[1,2,3]"
   ]
  },
  {
   "cell_type": "code",
   "execution_count": 7,
   "id": "6f5621aa",
   "metadata": {},
   "outputs": [
    {
     "ename": "TypeError",
     "evalue": "'builtin_function_or_method' object is not subscriptable",
     "output_type": "error",
     "traceback": [
      "\u001b[1;31m---------------------------------------------------------------------------\u001b[0m",
      "\u001b[1;31mTypeError\u001b[0m                                 Traceback (most recent call last)",
      "Input \u001b[1;32mIn [7]\u001b[0m, in \u001b[0;36m<cell line: 1>\u001b[1;34m()\u001b[0m\n\u001b[1;32m----> 1\u001b[0m \u001b[43ml1\u001b[49m\u001b[38;5;241;43m.\u001b[39;49m\u001b[43mappend\u001b[49m\u001b[43m[\u001b[49m\u001b[38;5;241;43m2\u001b[39;49m\u001b[43m]\u001b[49m\n",
      "\u001b[1;31mTypeError\u001b[0m: 'builtin_function_or_method' object is not subscriptable"
     ]
    }
   ],
   "source": [
    "l1.append[2]"
   ]
  },
  {
   "cell_type": "code",
   "execution_count": 8,
   "id": "333bce03",
   "metadata": {},
   "outputs": [
    {
     "ename": "SyntaxError",
     "evalue": "invalid character '‘' (U+2018) (2990041346.py, line 1)",
     "output_type": "error",
     "traceback": [
      "\u001b[1;36m  Input \u001b[1;32mIn [8]\u001b[1;36m\u001b[0m\n\u001b[1;33m    ‘Anil’, ‘Amol’, ‘Aditya’, ‘Avi’, ‘Alka’\u001b[0m\n\u001b[1;37m    ^\u001b[0m\n\u001b[1;31mSyntaxError\u001b[0m\u001b[1;31m:\u001b[0m invalid character '‘' (U+2018)\n"
     ]
    }
   ],
   "source": [
    "‘Anil’, ‘Amol’, ‘Aditya’, ‘Avi’, ‘Alka’"
   ]
  },
  {
   "cell_type": "code",
   "execution_count": 13,
   "id": "d063cda5",
   "metadata": {},
   "outputs": [
    {
     "name": "stdout",
     "output_type": "stream",
     "text": [
      "['Anil', 'Amol', 'Aditya', 'Avi', 'Alka']\n",
      "['Anil', 'Amol', 'Anuj', 'Aditya', 'Avi', 'Alka']\n",
      "['Anil', 'Amol', 'Anuj', 'Aditya', 'Avi', 'Alka', 'Zulu']\n",
      "['Anil', 'Amol', 'Anuj', 'Aditya', 'Alka', 'Zulu']\n",
      "['AnilKumar', 'Amol', 'Anuj', 'Aditya', 'Alka', 'Zulu']\n",
      "['Aditya', 'Alka', 'Amol', 'AnilKumar', 'Anuj', 'Zulu']\n",
      "['Zulu', 'Anuj', 'AnilKumar', 'Amol', 'Alka', 'Aditya']\n"
     ]
    }
   ],
   "source": [
    "# Create a list of 5 names \n",
    "\n",
    "names=['Anil', 'Amol', 'Aditya', 'Avi', 'Alka']\n",
    "\n",
    "print(names)\n",
    "\n",
    "# insert a name 'Anuj' before 'Aditya'\n",
    "\n",
    "names.insert(2,\"Anuj\")\n",
    "\n",
    "print(names)\n",
    "\n",
    "# append a name 'Zulu'\n",
    "\n",
    "names.append(\"Zulu\")\n",
    "\n",
    "print(names)\n",
    "\n",
    "# delete 'Avi' from the list\n",
    "\n",
    "names.remove(\"Avi\")\n",
    "\n",
    "print(names)\n",
    "\n",
    "# replace 'Anil' with 'AnilKumar'\n",
    "\n",
    "names[0]=\"AnilKumar\"\n",
    "\n",
    "print(names)\n",
    "\n",
    "# sort all the names in the list\n",
    "\n",
    "names.sort()\n",
    "\n",
    "print(names)\n",
    "\n",
    "# print reversed sorted list\n",
    "\n",
    "names.reverse()\n",
    "\n",
    "print(names)"
   ]
  },
  {
   "cell_type": "code",
   "execution_count": 14,
   "id": "e350a94a",
   "metadata": {},
   "outputs": [
    {
     "data": {
      "text/plain": [
       "['Zulu', 'Anuj', 'AnilKumar', 'Amol', 'Alka', 'Aditya']"
      ]
     },
     "execution_count": 14,
     "metadata": {},
     "output_type": "execute_result"
    }
   ],
   "source": [
    "['Anil', 'Amol', 'Aditya', 'Avi', 'Alka']\n",
    "['Anil', 'Amol', 'Anuj', 'Aditya', 'Avi', 'Alka']\n",
    "['Anil', 'Amol', 'Anuj', 'Aditya', 'Avi', 'Alka', 'Zulu']\n",
    "['Anil', 'Amol', 'Anuj', 'Aditya', 'Alka', 'Zulu']\n",
    "['AnilKumar', 'Amol', 'Anuj', 'Aditya', 'Alka', 'Zulu']\n",
    "['Aditya', 'Alka', 'Amol', 'AnilKumar', 'Anuj', 'Zulu']\n",
    "['Zulu', 'Anuj', 'AnilKumar', 'Amol', 'Alka', 'Aditya']"
   ]
  },
  {
   "cell_type": "code",
   "execution_count": 15,
   "id": "f9393443",
   "metadata": {},
   "outputs": [
    {
     "ename": "IndentationError",
     "evalue": "unexpected indent (1645540848.py, line 2)",
     "output_type": "error",
     "traceback": [
      "\u001b[1;36m  Input \u001b[1;32mIn [15]\u001b[1;36m\u001b[0m\n\u001b[1;33m    num_count = len(nums)\u001b[0m\n\u001b[1;37m    ^\u001b[0m\n\u001b[1;31mIndentationError\u001b[0m\u001b[1;31m:\u001b[0m unexpected indent\n"
     ]
    }
   ],
   "source": [
    "total_sum = sum(nums)\n",
    "    num_count = len(nums)\n",
    "    average = total_sum / num_count\n",
    "    return average|"
   ]
  },
  {
   "cell_type": "code",
   "execution_count": 7,
   "id": "992ec41d",
   "metadata": {},
   "outputs": [
    {
     "name": "stdout",
     "output_type": "stream",
     "text": [
      "Enter a sentence: Hello, world! How are you?\n",
      "Reversed sentence: ,olleH !dlrow woH era ?uoy\n"
     ]
    }
   ],
   "source": [
    "def reverse_words(sentence: str) -> str:\n",
    "    words = sentence.split()\n",
    "    reversed_words = [word[::-1] for word in words]\n",
    "    reversed_sentence = ' '.join(reversed_words)\n",
    "    return reversed_sentence\n",
    "sentence = input(\"Enter a sentence: \")\n",
    "reversed_sentence = reverse_words(sentence)\n",
    "print(\"Reversed sentence:\", reversed_sentence)\n"
   ]
  },
  {
   "cell_type": "code",
   "execution_count": 5,
   "id": "7409d857",
   "metadata": {},
   "outputs": [],
   "source": [
    "import re"
   ]
  },
  {
   "cell_type": "code",
   "execution_count": 6,
   "id": "096e5e2d",
   "metadata": {},
   "outputs": [
    {
     "name": "stdout",
     "output_type": "stream",
     "text": [
      "abc_123_2ac_Adf\n",
      "valid\n"
     ]
    }
   ],
   "source": [
    "def validitycheck(cid):\n",
    "    #complete the function\n",
    "    #the function should return a string: :\"invalid\" or \"valid\" based on the validity of entered customer ID\n",
    "    \n",
    "    if len(cid.split('_')) != 4 or sum(len(group) for group in cid.split('_')) != 12:\n",
    "        return \"invalid\"\n",
    "    for group in cid.split('_'):\n",
    "        if len(group) != 3 or not re.match(\"^[a-zA-Z0-9]+$\", group):\n",
    "            return \"invalid\"\n",
    "        for i in range(len(group) - 2):\n",
    "            if group[i] == group[i + 1] and group[i] == group[i + 2]:\n",
    "                return \"invalid\"\n",
    "    return \"valid\"\n",
    "\n",
    "cid=input()\n",
    "print(validitycheck(cid))"
   ]
  },
  {
   "cell_type": "code",
   "execution_count": 11,
   "id": "05849b68",
   "metadata": {},
   "outputs": [
    {
     "name": "stdout",
     "output_type": "stream",
     "text": [
      "Charlie\n"
     ]
    }
   ],
   "source": [
    "def find_top_student(scores: dict) -> str:\n",
    "    top_student = None\n",
    "    max_score = 0  \n",
    "    \n",
    "    for student, score in scores.items():\n",
    "        if score > max_score:\n",
    "            max_score = score\n",
    "            top_student = student\n",
    "    \n",
    "    return top_student\n",
    "\n",
    "scores = {'Alice': 85, 'Bob': 92, 'Charlie': 100, 'David': 90}\n",
    "print(find_top_student(scores))"
   ]
  },
  {
   "cell_type": "code",
   "execution_count": 22,
   "id": "577ab6fd",
   "metadata": {},
   "outputs": [
    {
     "name": "stdout",
     "output_type": "stream",
     "text": [
      "89.0\n",
      "77.67\n",
      "91.67\n"
     ]
    }
   ],
   "source": [
    "di = {\"Alice\": [85, 90, 92], \"Bob\": [78, 80, 75], \"Charlie\": [92, 88, 95]}\n",
    "\n",
    "for i in di.values():\n",
    "    s = 0\n",
    "    for j in i:\n",
    "        s += j\n",
    "        avg = s/len(i)\n",
    "    \n",
    "    print (round(avg,2))\n"
   ]
  },
  {
   "cell_type": "code",
   "execution_count": 16,
   "id": "af7d8c41",
   "metadata": {},
   "outputs": [
    {
     "data": {
      "text/plain": [
       "dict_values([[85, 90, 92], [78, 80, 75], [92, 88, 95]])"
      ]
     },
     "execution_count": 16,
     "metadata": {},
     "output_type": "execute_result"
    }
   ],
   "source": [
    "di.values()"
   ]
  },
  {
   "cell_type": "code",
   "execution_count": 23,
   "id": "db36f28b",
   "metadata": {},
   "outputs": [
    {
     "name": "stdout",
     "output_type": "stream",
     "text": [
      "{'Alice': 89.0, 'Bob': 77.67, 'Charlie': 91.67}\n"
     ]
    }
   ],
   "source": [
    "def calculate_average_grades(grades: dict) -> dict:\n",
    "    averages = {}  # Dictionary to store the average grades for each student\n",
    "    \n",
    "    for student, grades_list in grades.items():\n",
    "        if len(grades_list) > 0:\n",
    "            average_grade = sum(grades_list) / len(grades_list)\n",
    "            averages[student] = round(average_grade, 2)\n",
    "        else:\n",
    "            # Handle the case where the student has no grades\n",
    "            averages[student] = 0.0\n",
    "    \n",
    "    return averages\n",
    "\n",
    "# Example usage\n",
    "grades = {\"Alice\": [85, 90, 92], \"Bob\": [78, 80, 75], \"Charlie\": [92, 88, 95]}\n",
    "average_grades = calculate_average_grades(grades)\n",
    "print(average_grades)\n"
   ]
  },
  {
   "cell_type": "code",
   "execution_count": null,
   "id": "cf502629",
   "metadata": {},
   "outputs": [],
   "source": []
  }
 ],
 "metadata": {
  "kernelspec": {
   "display_name": "Python 3 (ipykernel)",
   "language": "python",
   "name": "python3"
  },
  "language_info": {
   "codemirror_mode": {
    "name": "ipython",
    "version": 3
   },
   "file_extension": ".py",
   "mimetype": "text/x-python",
   "name": "python",
   "nbconvert_exporter": "python",
   "pygments_lexer": "ipython3",
   "version": "3.9.12"
  }
 },
 "nbformat": 4,
 "nbformat_minor": 5
}
